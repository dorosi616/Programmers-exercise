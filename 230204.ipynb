{
  "nbformat": 4,
  "nbformat_minor": 0,
  "metadata": {
    "colab": {
      "provenance": [],
      "authorship_tag": "ABX9TyM7Z9K9yzfLDsFmG509d8JR",
      "include_colab_link": true
    },
    "kernelspec": {
      "name": "python3",
      "display_name": "Python 3"
    },
    "language_info": {
      "name": "python"
    }
  },
  "cells": [
    {
      "cell_type": "markdown",
      "metadata": {
        "id": "view-in-github",
        "colab_type": "text"
      },
      "source": [
        "<a href=\"https://colab.research.google.com/github/dorosi616/Programmers-exercise/blob/main/230204.ipynb\" target=\"_parent\"><img src=\"https://colab.research.google.com/assets/colab-badge.svg\" alt=\"Open In Colab\"/></a>"
      ]
    },
    {
      "cell_type": "markdown",
      "source": [
        "#### **둘만의 암호**\n",
        "https://school.programmers.co.kr/learn/courses/30/lessons/155652"
      ],
      "metadata": {
        "id": "zY-gHBE1B5K9"
      }
    },
    {
      "cell_type": "code",
      "execution_count": null,
      "metadata": {
        "id": "6J7mBsaAAY5J"
      },
      "outputs": [],
      "source": [
        "from string import ascii_lowercase\n",
        "\n",
        "def solution(s, skip, index):\n",
        "  answer = ''\n",
        "    \n",
        "  alpha = list(ascii_lowercase)\n",
        "\n",
        "  for w in skip:       \n",
        "    alpha.remove(w) \n",
        "\n",
        "  for i in range(len(s)):            \n",
        "    idx = alpha.index(s[i])+index       \n",
        "    if idx >= len(alpha):               \n",
        "      idx = idx % len(alpha)            \n",
        "    answer += alpha[idx]                \n",
        "\n",
        "  return answer"
      ]
    },
    {
      "cell_type": "code",
      "source": [
        "solution(\"aukks\", \"wbqd\", 5)"
      ],
      "metadata": {
        "colab": {
          "base_uri": "https://localhost:8080/",
          "height": 35
        },
        "id": "YvYRcGcSCH3i",
        "outputId": "cfefb246-e391-4d80-c4cb-5a19958b647e"
      },
      "execution_count": null,
      "outputs": [
        {
          "output_type": "execute_result",
          "data": {
            "text/plain": [
              "'happy'"
            ],
            "application/vnd.google.colaboratory.intrinsic+json": {
              "type": "string"
            }
          },
          "metadata": {},
          "execution_count": 24
        }
      ]
    },
    {
      "cell_type": "markdown",
      "source": [
        "#### **크기가 작은 부분문자열**\n",
        "https://school.programmers.co.kr/learn/courses/30/lessons/147355"
      ],
      "metadata": {
        "id": "uVcONyPAIHb4"
      }
    },
    {
      "cell_type": "code",
      "source": [
        "def solution(t, p):\n",
        "\n",
        "  answer = 0\n",
        "\n",
        "  for i in range(len(t)):\n",
        "    if (i+len(p)) <= len(t):\n",
        "      if p >= t[i:i+len(p)]:\n",
        "        answer += 1\n",
        "\n",
        "  return answer"
      ],
      "metadata": {
        "id": "6wwRk3X9FOtr"
      },
      "execution_count": null,
      "outputs": []
    },
    {
      "cell_type": "code",
      "source": [
        "solution(\"3141592\",\"271\")"
      ],
      "metadata": {
        "colab": {
          "base_uri": "https://localhost:8080/"
        },
        "id": "z-Xa7A19Kd8t",
        "outputId": "fb5a45e6-c3c2-4c90-ba11-79327a107afd"
      },
      "execution_count": null,
      "outputs": [
        {
          "output_type": "execute_result",
          "data": {
            "text/plain": [
              "2"
            ]
          },
          "metadata": {},
          "execution_count": 59
        }
      ]
    },
    {
      "cell_type": "code",
      "source": [
        "solution(\"500220839878\", \"7\")"
      ],
      "metadata": {
        "colab": {
          "base_uri": "https://localhost:8080/"
        },
        "id": "H76zYnkSKhXh",
        "outputId": "983f38ea-5840-4a8c-d0da-7dd3d54cf281"
      },
      "execution_count": null,
      "outputs": [
        {
          "output_type": "execute_result",
          "data": {
            "text/plain": [
              "8"
            ]
          },
          "metadata": {},
          "execution_count": 60
        }
      ]
    },
    {
      "cell_type": "code",
      "source": [
        "solution(\"10203\", \"15\") "
      ],
      "metadata": {
        "colab": {
          "base_uri": "https://localhost:8080/"
        },
        "id": "VFP7GeLRKm6H",
        "outputId": "0b028d4e-ffd4-493d-9cad-d27cc6345f91"
      },
      "execution_count": null,
      "outputs": [
        {
          "output_type": "execute_result",
          "data": {
            "text/plain": [
              "3"
            ]
          },
          "metadata": {},
          "execution_count": 62
        }
      ]
    },
    {
      "cell_type": "markdown",
      "source": [
        "#### **호텔 대실**\n",
        "https://school.programmers.co.kr/learn/courses/30/lessons/155651"
      ],
      "metadata": {
        "id": "71u-hGc7Nf80"
      }
    },
    {
      "cell_type": "code",
      "source": [
        "book_time = [[\"15:00\", \"17:00\"], [\"16:40\", \"18:20\"], [\"14:20\", \"15:20\"], [\"14:10\", \"19:20\"], [\"18:20\", \"21:20\"]]"
      ],
      "metadata": {
        "id": "F0zs1ctJKsVp"
      },
      "execution_count": null,
      "outputs": []
    },
    {
      "cell_type": "code",
      "source": [
        "room = [[] for i in range(len(book_time))]\n",
        "\n",
        "# 첫 손님\n",
        "room[0].append(book_time[0])\n",
        "\n",
        "for i in range(1, len(book_time)):\n",
        "  \n",
        "  new_start_h, new_start_m = map(int, book_time[i][0].split(\":\"))   # 새로운 손님 시작시간\n",
        "  new_end_h, new_end_m = map(int, book_time[i][1].split(\":\"))       # 새로운 손님 끝시간\n",
        "\n",
        "  for j in range(len(room)):\n",
        "    for k in range(len(room[j])):\n",
        "      start_h, start_m = map(int, room[j][k][0].split(\":\"))         # 예약된 손님 시작시간\n",
        "      end_h, end_m = map(int, room[j][k][1].split(\":\"))             # 예약된 손님 끝시간\n",
        "      if end_m >= 50:\n",
        "        end_h += 1\n",
        "        end_m = (end_m+10) - 60\n",
        "      else:\n",
        "        end_m += 10\n",
        "      \n",
        "      if start_h <= new_start_h <= end_h:       # 시작hour과 끝hour 사이에 있을 경우\n",
        "        if start_h == new_start_h == end_h:     # 시작hour과 끝hour이 같을 경우\n",
        "          if (start_m < new_start_m < end_m) or (start_m < new_end_m < end_m):     # 시간minute과 끝minute 사이에 있을 경우\n",
        "            break\n",
        "        else:\n",
        "          if start_h <= new_end_h <= end_h:\n",
        "            break\n",
        "\n",
        "      else:\n",
        "        room[j].append(book_time[i])  \n"
      ],
      "metadata": {
        "id": "gDO4xGhfSR-X"
      },
      "execution_count": null,
      "outputs": []
    },
    {
      "cell_type": "code",
      "source": [
        "room"
      ],
      "metadata": {
        "id": "D9-BX_KyqUd6",
        "outputId": "8b6862a7-f0cd-4bdb-bfed-7220ea15d5f0",
        "colab": {
          "base_uri": "https://localhost:8080/"
        }
      },
      "execution_count": null,
      "outputs": [
        {
          "output_type": "execute_result",
          "data": {
            "text/plain": [
              "[[['15:00', '17:00'],\n",
              "  ['14:20', '15:20'],\n",
              "  ['14:10', '19:20'],\n",
              "  ['18:20', '21:20'],\n",
              "  ['18:20', '21:20']],\n",
              " [],\n",
              " [],\n",
              " [],\n",
              " []]"
            ]
          },
          "metadata": {},
          "execution_count": 4
        }
      ]
    },
    {
      "cell_type": "code",
      "source": [
        "room = [[] for i in range(len(book_time))]\n",
        "\n",
        "room[0].append(book_time[0]) # 첫 손님\n",
        "\n",
        "for i in range(1, len(book_time)):\n",
        "  new_end_h, new_end_m = map(int, book_time[i][1].split(\":\"))       # 새로운 손님 끝시간\n",
        "  new_start_h, new_start_m = map(int, book_time[i][0].split(\":\"))   # 새로운 손님 시작시간\n",
        "\n",
        "  for j in range(len(room)):\n",
        "    for k in range(len(room[j])):\n",
        "      end_h, end_m = map(int, room[j][k][1].split(\":\"))             # 예약된 손님 끝시간\n",
        "      start_h, start_m = map(int, room[j][k][0].split(\":\"))         # 예약된 손님 시작시간\n",
        "\n",
        "      if start_h <= new_start_h <= end_h:\n",
        "        break\n",
        "      if start_h <= new_end_h <= end_h:\n",
        "        break\n",
        "      room[j].append(book_time[i])"
      ],
      "metadata": {
        "id": "aYRmxR2AZzPl"
      },
      "execution_count": null,
      "outputs": []
    },
    {
      "cell_type": "code",
      "source": [
        "room"
      ],
      "metadata": {
        "colab": {
          "base_uri": "https://localhost:8080/"
        },
        "id": "hif716_9VTjB",
        "outputId": "7143ab1c-69e3-410c-8a74-1d7fb3a29379"
      },
      "execution_count": null,
      "outputs": [
        {
          "output_type": "execute_result",
          "data": {
            "text/plain": [
              "[[['15:00', '17:00'], ['14:10', '19:20'], ['18:20', '21:20']], [], [], [], []]"
            ]
          },
          "metadata": {},
          "execution_count": 85
        }
      ]
    },
    {
      "cell_type": "code",
      "source": [],
      "metadata": {
        "id": "rd-aglgC2u6B"
      },
      "execution_count": null,
      "outputs": []
    },
    {
      "cell_type": "code",
      "source": [
        "book_time = [[\"15:00\", \"17:00\"], [\"16:40\", \"18:20\"], [\"14:20\", \"15:20\"], [\"14:10\", \"19:20\"], [\"18:20\", \"21:20\"]]\n",
        "book_time2 = []\n",
        "room = []\n",
        "\n",
        "for bt in book_time:\n",
        "  book_time2.append( [int(bt[0].split(\":\")[0]) * 60 +  int(bt[0].split(\":\")[1]), int(bt[1].split(\":\")[0]) * 60 +  int(bt[1].split(\":\")[1]) + 10] )\n",
        "  \n",
        "book_time2.sort()\n",
        "\n",
        "for bt in book_time2:\n",
        "  bt "
      ],
      "metadata": {
        "colab": {
          "base_uri": "https://localhost:8080/"
        },
        "id": "O8eYigcq2vQq",
        "outputId": "e86b586a-6162-420d-b0e6-ad0d4d7ed008"
      },
      "execution_count": null,
      "outputs": [
        {
          "output_type": "execute_result",
          "data": {
            "text/plain": [
              "[[850, 1170], [860, 930], [900, 1030], [1000, 1110], [1100, 1290]]"
            ]
          },
          "metadata": {},
          "execution_count": 16
        }
      ]
    },
    {
      "cell_type": "markdown",
      "source": [
        "#### **할인 행사**\n",
        "https://school.programmers.co.kr/learn/courses/30/lessons/131127"
      ],
      "metadata": {
        "id": "-_Y2orUtjtwV"
      }
    },
    {
      "cell_type": "code",
      "source": [
        "from collections import Counter\n",
        "\n",
        "def solution(want, number, discount):\n",
        "    bag = dict()\n",
        "    day = 0\n",
        "\n",
        "    for i in range(len(want)):\n",
        "      bag[want[i]] = number[i]\n",
        "\n",
        "    for j in range(len(discount)):\n",
        "\n",
        "      res = True\n",
        "\n",
        "      if j+10 <= len(discount):\n",
        "        cnt = Counter(discount[j:j+10])\n",
        "\n",
        "        for k in bag:\n",
        "          if k not in cnt:\n",
        "            res = False\n",
        "            break\n",
        "          if (k in cnt) and (cnt[k] < bag[k]):\n",
        "            res = False\n",
        "            break\n",
        "\n",
        "        if res == True:\n",
        "          day += 1\n",
        "\n",
        "    return day"
      ],
      "metadata": {
        "id": "Y4vWcKFZK6uN"
      },
      "execution_count": null,
      "outputs": []
    },
    {
      "cell_type": "code",
      "source": [
        "solution([\"banana\", \"apple\", \"rice\", \"pork\", \"pot\"],\t[3, 2, 2, 2, 1],\t[\"chicken\", \"apple\", \"apple\", \"banana\", \"rice\", \"apple\", \"pork\", \"banana\", \"pork\", \"rice\", \"pot\", \"banana\", \"apple\", \"banana\"])"
      ],
      "metadata": {
        "colab": {
          "base_uri": "https://localhost:8080/"
        },
        "id": "hP_JEBv3QhxS",
        "outputId": "2a470bce-f7c3-421b-9188-b983f7eadcea"
      },
      "execution_count": null,
      "outputs": [
        {
          "output_type": "execute_result",
          "data": {
            "text/plain": [
              "3"
            ]
          },
          "metadata": {},
          "execution_count": 52
        }
      ]
    },
    {
      "cell_type": "code",
      "source": [
        "want = [\"banana\", \"apple\", \"rice\", \"pork\", \"pot\"]\n",
        "number = [3, 2, 2, 2, 1]\n",
        "discount = [\"chicken\", \"apple\", \"apple\", \"banana\", \"rice\", \"apple\", \"pork\", \"banana\", \"pork\", \"rice\", \"pot\", \"banana\", \"apple\", \"banana\"]"
      ],
      "metadata": {
        "id": "ntlhbi2Zj2mq"
      },
      "execution_count": null,
      "outputs": []
    },
    {
      "cell_type": "code",
      "source": [
        "want = [\"apple\"]\t\n",
        "number = [10]\t\n",
        "discount = [\"banana\", \"banana\", \"banana\", \"banana\", \"banana\", \"banana\", \"banana\", \"banana\", \"banana\", \"banana\"]"
      ],
      "metadata": {
        "id": "5kV2QW0Wn1W-"
      },
      "execution_count": null,
      "outputs": []
    }
  ]
}