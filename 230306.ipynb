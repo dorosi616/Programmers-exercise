{
  "nbformat": 4,
  "nbformat_minor": 0,
  "metadata": {
    "colab": {
      "provenance": [],
      "authorship_tag": "ABX9TyO5uDajUTAFvb8J5aiWYKQm",
      "include_colab_link": true
    },
    "kernelspec": {
      "name": "python3",
      "display_name": "Python 3"
    },
    "language_info": {
      "name": "python"
    }
  },
  "cells": [
    {
      "cell_type": "markdown",
      "metadata": {
        "id": "view-in-github",
        "colab_type": "text"
      },
      "source": [
        "<a href=\"https://colab.research.google.com/github/dorosi616/Programmers-exercise/blob/main/230306.ipynb\" target=\"_parent\"><img src=\"https://colab.research.google.com/assets/colab-badge.svg\" alt=\"Open In Colab\"/></a>"
      ]
    },
    {
      "cell_type": "markdown",
      "source": [
        "#### **Lv1. 모의고사**\n",
        "https://school.programmers.co.kr/learn/courses/30/lessons/42840"
      ],
      "metadata": {
        "id": "30vly1Ac0469"
      }
    },
    {
      "cell_type": "code",
      "execution_count": null,
      "metadata": {
        "id": "uVN1CMA5tYi8"
      },
      "outputs": [],
      "source": [
        "def solution(answers):\n",
        "    answer = []\n",
        "    \n",
        "    student = {1:[1, 2, 3, 4, 5], 2:[2, 1, 2, 3, 2, 4, 2, 5], 3:[3, 3, 1, 1, 2, 2, 4, 4, 5, 5]}\n",
        "    score = {1:0, 2:0, 3:0}\n",
        "  \n",
        "    for k,v in student.items():\n",
        "        for i in range(len(answers)):\n",
        "            if answers[i]==student[k][(i%len(student[k]))]:\n",
        "                score[k] += 1\n",
        "\n",
        "    for k,v in score.items() :\n",
        "        if v==max(score.values()):\n",
        "            answer.append(k)\n",
        "            \n",
        "    return answer"
      ]
    },
    {
      "cell_type": "code",
      "source": [
        "# 다른풀이\n",
        "# https://ebbnflow.tistory.com/241\n",
        "\n",
        "def solution(answers):\n",
        "    student = {1:[1,2,3,4,5], 2:[2,1,2,3,2,4,2,5], 3:[3,3,1,1,2,2,4,4,5,5]}\n",
        "    score = {1:0, 2:0, 3:0}\n",
        "\n",
        "    for idx, answer in enumerate(answers):\n",
        "        for key, value in student.items():\n",
        "            if answer == value[idx % len(value)]:\n",
        "                score[key] += 1\n",
        "                \n",
        "    highest = max(score.values())\n",
        "    result = [key for key, value in score.items() if value == highest]\n",
        "\n",
        "    return result"
      ],
      "metadata": {
        "colab": {
          "base_uri": "https://localhost:8080/"
        },
        "id": "LcGhYeizvxHt",
        "outputId": "f624a2d1-1218-4226-de86-2a63f820fb73"
      },
      "execution_count": null,
      "outputs": [
        {
          "output_type": "execute_result",
          "data": {
            "text/plain": [
              "[1]"
            ]
          },
          "metadata": {},
          "execution_count": 23
        }
      ]
    },
    {
      "cell_type": "code",
      "source": [
        "solution([1,3,2,4,2])"
      ],
      "metadata": {
        "colab": {
          "base_uri": "https://localhost:8080/"
        },
        "id": "zRwOsLQb1DDt",
        "outputId": "0b0ebac2-679e-4eb6-df4d-6cc205a16b13"
      },
      "execution_count": null,
      "outputs": [
        {
          "output_type": "execute_result",
          "data": {
            "text/plain": [
              "[1, 2, 3]"
            ]
          },
          "metadata": {},
          "execution_count": 25
        }
      ]
    },
    {
      "cell_type": "markdown",
      "source": [
        "#### **Lv1. 기사단원의 무기**\n",
        "https://school.programmers.co.kr/learn/courses/30/lessons/136798"
      ],
      "metadata": {
        "id": "4TE46q0_3EDs"
      }
    },
    {
      "cell_type": "code",
      "source": [
        "# 시간초과\n",
        "\n",
        "def solution(number, limit, power):\n",
        "\n",
        "    answer = 0\n",
        "    \n",
        "    for i in range(1, number+1):\n",
        "        cnt = 0\n",
        "        for j in range(1, i+1):\n",
        "            if i%j == 0:\n",
        "                cnt += 1\n",
        "        if cnt > limit: cnt = power\n",
        "        answer += cnt\n",
        "    \n",
        "    return answer"
      ],
      "metadata": {
        "id": "-03yIuv6u0o9"
      },
      "execution_count": null,
      "outputs": []
    },
    {
      "cell_type": "code",
      "source": [
        "def solution(number, limit, power):\n",
        "    answer = 0\n",
        "\n",
        "    for i in range(1, number+1):\n",
        "      cnt = 0\n",
        "      for j in range(1, int(i**(0.5))+1):\n",
        "        if (i%j == 0) and ((j**2)!=i):\n",
        "          cnt += 2\n",
        "        if (i%j == 0) and ((j**2)==i):\n",
        "          cnt += 1\n",
        "\n",
        "      if cnt > limit: cnt = power\n",
        "      answer += cnt\n",
        "\n",
        "\n",
        "    return answer"
      ],
      "metadata": {
        "id": "hcOLJynuvSZN"
      },
      "execution_count": null,
      "outputs": []
    },
    {
      "cell_type": "code",
      "source": [
        "solution(5,3,2)"
      ],
      "metadata": {
        "colab": {
          "base_uri": "https://localhost:8080/"
        },
        "id": "8n7OZoMqwqho",
        "outputId": "8ef651a4-5d33-48ec-f1cd-07b0201c2a58"
      },
      "execution_count": null,
      "outputs": [
        {
          "output_type": "execute_result",
          "data": {
            "text/plain": [
              "10"
            ]
          },
          "metadata": {},
          "execution_count": 8
        }
      ]
    },
    {
      "cell_type": "code",
      "source": [
        "solution(10,3,2)"
      ],
      "metadata": {
        "id": "sbp1F2KhyOFw",
        "outputId": "814b94f9-6aa2-48b1-fe11-4ffc2400f128",
        "colab": {
          "base_uri": "https://localhost:8080/"
        }
      },
      "execution_count": null,
      "outputs": [
        {
          "output_type": "execute_result",
          "data": {
            "text/plain": [
              "21"
            ]
          },
          "metadata": {},
          "execution_count": 9
        }
      ]
    },
    {
      "cell_type": "code",
      "source": [],
      "metadata": {
        "id": "uNH5VLVTyPcH"
      },
      "execution_count": null,
      "outputs": []
    }
  ]
}