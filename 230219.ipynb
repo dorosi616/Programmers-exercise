{
  "nbformat": 4,
  "nbformat_minor": 0,
  "metadata": {
    "colab": {
      "provenance": [],
      "authorship_tag": "ABX9TyPdHyNOY3fw3Hbewsmswxzu",
      "include_colab_link": true
    },
    "kernelspec": {
      "name": "python3",
      "display_name": "Python 3"
    },
    "language_info": {
      "name": "python"
    }
  },
  "cells": [
    {
      "cell_type": "markdown",
      "metadata": {
        "id": "view-in-github",
        "colab_type": "text"
      },
      "source": [
        "<a href=\"https://colab.research.google.com/github/dorosi616/Programmers-exercise/blob/main/230219.ipynb\" target=\"_parent\"><img src=\"https://colab.research.google.com/assets/colab-badge.svg\" alt=\"Open In Colab\"/></a>"
      ]
    },
    {
      "cell_type": "markdown",
      "source": [
        "#### **Lv1. 옹알이(2)**\n",
        "https://school.programmers.co.kr/learn/courses/30/lessons/133499"
      ],
      "metadata": {
        "id": "L_LNKaC0JMQG"
      }
    },
    {
      "cell_type": "code",
      "source": [
        "# 참고\n",
        "# https://velog.io/@bsm4045/Programmers-%EC%98%B9%EC%95%8C%EC%9D%B42-Python3"
      ],
      "metadata": {
        "id": "260E-mwdW6vJ"
      },
      "execution_count": null,
      "outputs": []
    },
    {
      "cell_type": "code",
      "execution_count": null,
      "metadata": {
        "id": "Ygkhm4hsIxOY"
      },
      "outputs": [],
      "source": [
        "def solution(babbling):\n",
        "    \n",
        "    answer = 0\n",
        "    say = [\"aya\", \"ye\", \"woo\", \"ma\"]\n",
        "\n",
        "    for i in range(len(babbling)):\n",
        "      for j in range(len(say)):\n",
        "        if (say[j] in babbling[i]) and (say[j]*2 not in babbling[i]):\n",
        "          babbling[i] = babbling[i].replace(say[j], \" \")\n",
        "      if babbling[i].strip()==\"\":\n",
        "        answer += 1\n",
        "        \n",
        "    return answer"
      ]
    },
    {
      "cell_type": "markdown",
      "source": [
        "#### **Lv1. 카드뭉치**\n",
        "https://school.programmers.co.kr/learn/courses/30/lessons/159994"
      ],
      "metadata": {
        "id": "QsGLfeuJXhdH"
      }
    },
    {
      "cell_type": "code",
      "source": [
        "# 참고\n",
        "# https://inspirer9.tistory.com/416"
      ],
      "metadata": {
        "id": "TMH4GhfHkIQ1"
      },
      "execution_count": null,
      "outputs": []
    },
    {
      "cell_type": "code",
      "source": [
        "# 실패\n",
        "def solution(card1, card2, goal):\n",
        "    \n",
        "    answer = \"Yes\"\n",
        "\n",
        "    idx1 = 0\n",
        "    idx2 = 0\n",
        "\n",
        "    for i in range(len(goal)):\n",
        "      if goal[i] in card1:\n",
        "        if idx1 > card1.index(goal[i]):\n",
        "          answer = \"No\"\n",
        "        else:\n",
        "          idx1 = card1.index(goal[i])\n",
        "      elif goal[i] in card2:\n",
        "        if idx2 > card2.index(goal[i]):\n",
        "          answer = \"No\"\n",
        "        else:\n",
        "          idx2 = card2.index(goal[i])\n",
        "      else:\n",
        "        answer = \"No\"\n",
        "\n",
        "    return answer"
      ],
      "metadata": {
        "id": "2I0FGn8aQujF"
      },
      "execution_count": null,
      "outputs": []
    },
    {
      "cell_type": "code",
      "source": [
        "card1 = [\"i\", \"water\", \"drink\"]\t\n",
        "card2 = [\"want\", \"to\"]\t\n",
        "goal = [\"i\", \"want\", \"to\", \"drink\", \"water\"]\n",
        "\n",
        "answer = \"Yes\"\n",
        "\n",
        "idx1 = 0\n",
        "idx2 = 0\n",
        "\n",
        "for i in goal:\n",
        "  if (idx1 < len(card1)) and (card1[idx1]==i):\n",
        "      idx1 += 1\n",
        "  elif (idx2 < len(card2)) and (card2[idx2]==i) :\n",
        "      idx2 += 1\n",
        "  else:\n",
        "    answer = \"No\"\n",
        "\n",
        "answer"
      ],
      "metadata": {
        "colab": {
          "base_uri": "https://localhost:8080/",
          "height": 35
        },
        "id": "K2oOCvRFXqGx",
        "outputId": "50709515-237e-4324-81f2-82fb92de35dd"
      },
      "execution_count": null,
      "outputs": [
        {
          "output_type": "execute_result",
          "data": {
            "text/plain": [
              "'No'"
            ],
            "application/vnd.google.colaboratory.intrinsic+json": {
              "type": "string"
            }
          },
          "metadata": {},
          "execution_count": 32
        }
      ]
    },
    {
      "cell_type": "code",
      "source": [
        "from collections import deque\n",
        "\n",
        "card1_que = deque(card1)\n",
        "card2_que = deque(card2)\n",
        "answer = \"Yes\"\n",
        "\n",
        "for target in goal:\n",
        "  if card1_que and card1_que[0] == target:\n",
        "    card1_que.popleft()\n",
        "  elif card2_que and card2_que[0] == target:\n",
        "    card2_que.popleft()\n",
        "  else:\n",
        "    answer = \"No\"\n",
        "\n",
        "answer"
      ],
      "metadata": {
        "colab": {
          "base_uri": "https://localhost:8080/",
          "height": 35
        },
        "id": "rLoLQse9ZflA",
        "outputId": "c7c5c34a-eabb-42eb-ece2-551704e26703"
      },
      "execution_count": null,
      "outputs": [
        {
          "output_type": "execute_result",
          "data": {
            "text/plain": [
              "'No'"
            ],
            "application/vnd.google.colaboratory.intrinsic+json": {
              "type": "string"
            }
          },
          "metadata": {},
          "execution_count": 33
        }
      ]
    },
    {
      "cell_type": "markdown",
      "source": [
        "#### **Lv1. 같은 숫자는 싫어**\n",
        "https://school.programmers.co.kr/learn/courses/30/lessons/12906"
      ],
      "metadata": {
        "id": "SU0cE0oylY9M"
      }
    },
    {
      "cell_type": "code",
      "source": [
        "from collections import deque\n",
        "\n",
        "def solution(arr):\n",
        "    answer = []\n",
        "    \n",
        "    arr_que = deque(arr)\n",
        "    for a in arr:\n",
        "      if answer == []:\n",
        "        answer.append(a)\n",
        "      if answer[-1] != arr_que[0]:\n",
        "        answer.append(arr_que[0])\n",
        "      arr_que.popleft()\n",
        "\n",
        "    return answer"
      ],
      "metadata": {
        "id": "zdzuMCEnktnC"
      },
      "execution_count": null,
      "outputs": []
    },
    {
      "cell_type": "code",
      "source": [
        "solution([1,1,3,3,0,1,1])"
      ],
      "metadata": {
        "colab": {
          "base_uri": "https://localhost:8080/"
        },
        "id": "_cohz3bnmBR2",
        "outputId": "efbce8cf-eb79-4243-8054-52d0596a6466"
      },
      "execution_count": null,
      "outputs": [
        {
          "output_type": "execute_result",
          "data": {
            "text/plain": [
              "[1, 3, 0, 1]"
            ]
          },
          "metadata": {},
          "execution_count": 45
        }
      ]
    },
    {
      "cell_type": "markdown",
      "source": [
        "#### **Lv2. 연속 부분 수열 합의 개수**\n",
        "https://school.programmers.co.kr/learn/courses/30/lessons/131701"
      ],
      "metadata": {
        "id": "QVQ9R1-6nwKQ"
      }
    },
    {
      "cell_type": "code",
      "source": [
        "# 시간초과\n",
        "\n",
        "from collections import deque\n",
        "\n",
        "def solution(elements):\n",
        "    res = []\n",
        "\n",
        "    for i in range(1, len(elements)+1):\n",
        "      for j in range(len(elements)):\n",
        "        el = elements[j:j+i]\n",
        "        sum = 0\n",
        "    \n",
        "        elements2 = deque(elements.copy())\n",
        "\n",
        "        if len(elements[j:j+i]) < i:\n",
        "          for k in range(i-len(elements[j:j+i])):\n",
        "            el.append(elements2.popleft())\n",
        "\n",
        "        for k in el:\n",
        "         sum += k\n",
        "\n",
        "        if sum not in res:\n",
        "          res.append(sum)\n",
        "\n",
        "    answer = len(res)\n",
        "    return answer"
      ],
      "metadata": {
        "id": "-3zkyqJcmKbC"
      },
      "execution_count": null,
      "outputs": []
    },
    {
      "cell_type": "code",
      "source": [
        "solution([7, 9, 1, 1, 4])"
      ],
      "metadata": {
        "colab": {
          "base_uri": "https://localhost:8080/"
        },
        "id": "obMfMlndleAk",
        "outputId": "3d146292-8d56-4729-8536-245707f3be4d"
      },
      "execution_count": null,
      "outputs": [
        {
          "output_type": "execute_result",
          "data": {
            "text/plain": [
              "18"
            ]
          },
          "metadata": {},
          "execution_count": 17
        }
      ]
    },
    {
      "cell_type": "code",
      "source": [
        "# 시간초과\n",
        "\n",
        "elements = [7,9,1,1,4]\n",
        "\n",
        "end = len(elements)\n",
        "elements += elements\n",
        "res = []\n",
        "\n",
        "for i in range(1, end+1):\n",
        "  for j in range(end):\n",
        "    sum = 0\n",
        "    for k in elements[j:j+i]:\n",
        "      sum += k\n",
        "    if sum not in res:\n",
        "      res.append(sum)\n",
        "\n",
        "len(res)"
      ],
      "metadata": {
        "id": "qNHvo_Rnm11C"
      },
      "execution_count": null,
      "outputs": []
    },
    {
      "cell_type": "code",
      "source": [
        "# 성공\n",
        "\n",
        "def solution(elements):\n",
        "\n",
        "  elements2 = elements + elements\n",
        "  res = set()\n",
        "\n",
        "  for i in range(len(elements)):\n",
        "    for j in range(len(elements)):\n",
        "      res.add(sum(elements2[j:j+i+1]))\n",
        "\n",
        "  return len(res)"
      ],
      "metadata": {
        "id": "sygsETv8jAfJ"
      },
      "execution_count": null,
      "outputs": []
    },
    {
      "cell_type": "code",
      "source": [
        "solution([7,9,1,1,4])"
      ],
      "metadata": {
        "colab": {
          "base_uri": "https://localhost:8080/"
        },
        "id": "A1kw0rWnmvzI",
        "outputId": "9d660e58-6499-40da-88af-4188f7c4f663"
      },
      "execution_count": null,
      "outputs": [
        {
          "output_type": "execute_result",
          "data": {
            "text/plain": [
              "18"
            ]
          },
          "metadata": {},
          "execution_count": 42
        }
      ]
    },
    {
      "cell_type": "markdown",
      "source": [
        "#### **Lv2. 최댓값과 최솟값**\n",
        "https://school.programmers.co.kr/learn/courses/30/lessons/12939"
      ],
      "metadata": {
        "id": "SgiD37w1rZoX"
      }
    },
    {
      "cell_type": "code",
      "source": [
        "def solution(s):\n",
        "    answer = ''\n",
        "\n",
        "    num = list(map(int, s.split(\" \")))\n",
        "\n",
        "    answer += str(min(num))\n",
        "    answer += \" \"\n",
        "    answer += str(max(num))\n",
        "\n",
        "    return answer"
      ],
      "metadata": {
        "id": "MVES9tM2oAdC"
      },
      "execution_count": null,
      "outputs": []
    },
    {
      "cell_type": "code",
      "source": [
        "solution(\"-1 -2 -3 -4\")"
      ],
      "metadata": {
        "colab": {
          "base_uri": "https://localhost:8080/",
          "height": 35
        },
        "id": "LRZHqrp1ogHz",
        "outputId": "d1f8d4fc-74d5-4db2-bd0b-d6c7940b8531"
      },
      "execution_count": null,
      "outputs": [
        {
          "output_type": "execute_result",
          "data": {
            "text/plain": [
              "'-4 -1'"
            ],
            "application/vnd.google.colaboratory.intrinsic+json": {
              "type": "string"
            }
          },
          "metadata": {},
          "execution_count": 51
        }
      ]
    },
    {
      "cell_type": "code",
      "source": [],
      "metadata": {
        "id": "k7e7epAXtqrp"
      },
      "execution_count": null,
      "outputs": []
    }
  ]
}