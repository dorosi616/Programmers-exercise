{
  "nbformat": 4,
  "nbformat_minor": 0,
  "metadata": {
    "colab": {
      "provenance": [],
      "authorship_tag": "ABX9TyOKoNHbiNC7WWDU345Fpliu",
      "include_colab_link": true
    },
    "kernelspec": {
      "name": "python3",
      "display_name": "Python 3"
    },
    "language_info": {
      "name": "python"
    }
  },
  "cells": [
    {
      "cell_type": "markdown",
      "metadata": {
        "id": "view-in-github",
        "colab_type": "text"
      },
      "source": [
        "<a href=\"https://colab.research.google.com/github/dorosi616/Programmers-exercise/blob/main/230318.ipynb\" target=\"_parent\"><img src=\"https://colab.research.google.com/assets/colab-badge.svg\" alt=\"Open In Colab\"/></a>"
      ]
    },
    {
      "cell_type": "markdown",
      "source": [
        "#### **Lv2. H-Index**\n",
        "https://school.programmers.co.kr/learn/courses/30/lessons/42747"
      ],
      "metadata": {
        "id": "30SXB3FvY7g8"
      }
    },
    {
      "cell_type": "code",
      "execution_count": null,
      "metadata": {
        "id": "Z_GoNNGUY4ad"
      },
      "outputs": [],
      "source": [
        "# 실패 \n",
        "\n",
        "def solution(citations):\n",
        "    answer = 0\n",
        "    \n",
        "    citations.sort()\n",
        "    \n",
        "    for c in range(len(citations)+1):\n",
        "        new = []\n",
        "        for i in range(len(citations)):\n",
        "            if citations[i] >= c:\n",
        "                new.append(citations[i])\n",
        "        if len(new) == c:\n",
        "            answer = c\n",
        "            break\n",
        "    \n",
        "    return answer"
      ]
    },
    {
      "cell_type": "code",
      "source": [
        "def solution(citations):\n",
        "    answer = 0\n",
        "    \n",
        "    citations.sort()   # [0, 1, 3, 5, 6]\n",
        "    \n",
        "    for i in range(1, len(citations)+1):\n",
        "        if citations[-i] >= i:\n",
        "            answer = i\n",
        "    \n",
        "    return answer"
      ],
      "metadata": {
        "id": "SN2jSO9ocnTG"
      },
      "execution_count": null,
      "outputs": []
    },
    {
      "cell_type": "markdown",
      "source": [
        "#### **Lv2. 스킬트리**\n",
        "https://school.programmers.co.kr/learn/courses/30/lessons/49993"
      ],
      "metadata": {
        "id": "8AthoNWosS5M"
      }
    },
    {
      "cell_type": "code",
      "source": [
        "def solution(skill, skill_trees):\n",
        "    answer = 0\n",
        "    \n",
        "    for tree in skill_trees:\n",
        "        s = \"\"\n",
        "        for t in tree:\n",
        "            if t in skill:\n",
        "                s += t\n",
        "        if s == skill[:len(s)]:\n",
        "            answer += 1\n",
        "    \n",
        "    return answer"
      ],
      "metadata": {
        "id": "glI2ue-AjDsm"
      },
      "execution_count": null,
      "outputs": []
    },
    {
      "cell_type": "code",
      "source": [
        "solution(\"CBD\", [\"BACDE\", \"CBADF\", \"AECB\", \"BDA\"])"
      ],
      "metadata": {
        "colab": {
          "base_uri": "https://localhost:8080/"
        },
        "id": "tRAMYsJbseqR",
        "outputId": "0eafa12d-1cb3-4f9c-b09e-b7e9831de61f"
      },
      "execution_count": null,
      "outputs": [
        {
          "output_type": "execute_result",
          "data": {
            "text/plain": [
              "2"
            ]
          },
          "metadata": {},
          "execution_count": 11
        }
      ]
    },
    {
      "cell_type": "markdown",
      "source": [
        "#### **Lv2. 두 큐 합 같게 만들기**\n",
        "https://school.programmers.co.kr/learn/courses/30/lessons/118667"
      ],
      "metadata": {
        "id": "0XLOYTBftKAD"
      }
    },
    {
      "cell_type": "code",
      "source": [
        "# https://velog.io/@isayaksh/%EC%95%8C%EA%B3%A0%EB%A6%AC%EC%A6%98-Programmers-%EB%91%90-%ED%81%90-%ED%95%A9-%EA%B0%99%EA%B2%8C-%EB%A7%8C%EB%93%A4%EA%B8%B0-Python\n",
        "\n",
        "from collections import deque\n",
        "def solution(queue1, queue2):\n",
        "    answer = 0\n",
        "    queue1, queue2 = deque(queue1), deque(queue2)\n",
        "    sum1, sum2 = sum(queue1), sum(queue2)\n",
        "    \n",
        "    for _ in range(3*len(queue1)):\n",
        "        if sum1 > sum2:\n",
        "            sum1 -= queue1[0]\n",
        "            sum2 += queue1[0]\n",
        "            queue2.append(queue1.popleft())\n",
        "        elif sum1 < sum2:\n",
        "            sum1 += queue2[0]\n",
        "            sum2 -= queue2[0]\n",
        "            queue1.append(queue2.popleft())\n",
        "        else:\n",
        "            return answer\n",
        "        answer += 1\n",
        "    return -1"
      ],
      "metadata": {
        "id": "ka7bbbrOsqsQ"
      },
      "execution_count": null,
      "outputs": []
    },
    {
      "cell_type": "code",
      "source": [
        "# 내꺼\n",
        "\n",
        "from collections import deque\n",
        "\n",
        "def solution(queue1, queue2):\n",
        "    cnt = 0\n",
        "    \n",
        "    queue1 = deque(queue1)\n",
        "    queue2 = deque(queue2)\n",
        "    limit = len(queue1)*4\n",
        "\n",
        "    sum1 = sum(queue1)\n",
        "    sum2 = sum(queue2)\n",
        "    \n",
        "    while sum1 != sum2:\n",
        "        \n",
        "        if sum1 > sum2:\n",
        "            sum1 -= queue1[0]\n",
        "            sum2 += queue1[0]\n",
        "            queue2.append(queue1.popleft())\n",
        "            cnt +=1\n",
        "            \n",
        "            \n",
        "        if sum1 < sum2:\n",
        "            sum1 += queue2[0]\n",
        "            sum2 -= queue2[0]\n",
        "            queue1.append(queue2.popleft())\n",
        "            cnt += 1\n",
        "            \n",
        "        if cnt == limit:\n",
        "            return -1\n",
        "    \n",
        "    \n",
        "    return cnt"
      ],
      "metadata": {
        "id": "oeaR5d27w_91"
      },
      "execution_count": null,
      "outputs": []
    },
    {
      "cell_type": "code",
      "source": [
        "#  queue1과 queue2의 모든 원소를 바꾸면 queue1 길이의 2배만큼 횟수가 필요하고 \n",
        "# 다시 모든 원소를 바꿔 원래의 모습으로 만들면 queue1 길이의 2배만큼 필요해 총 len(queue1) * 4 만큼 횟수가 필요하다."
      ],
      "metadata": {
        "id": "8Ea7rUMQ1abx"
      },
      "execution_count": null,
      "outputs": []
    },
    {
      "cell_type": "code",
      "source": [
        "solution([3, 2, 7, 2],\t[4, 6, 5, 1])"
      ],
      "metadata": {
        "colab": {
          "base_uri": "https://localhost:8080/"
        },
        "id": "STzj-jaAyriB",
        "outputId": "906f5bcb-632a-462c-dc96-40066243357f"
      },
      "execution_count": null,
      "outputs": [
        {
          "output_type": "execute_result",
          "data": {
            "text/plain": [
              "2"
            ]
          },
          "metadata": {},
          "execution_count": 13
        }
      ]
    }
  ]
}