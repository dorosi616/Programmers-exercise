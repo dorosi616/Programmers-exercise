{
  "nbformat": 4,
  "nbformat_minor": 0,
  "metadata": {
    "colab": {
      "provenance": [],
      "authorship_tag": "ABX9TyP1yH+kDZ3aIoUvzvG8qh6P",
      "include_colab_link": true
    },
    "kernelspec": {
      "name": "python3",
      "display_name": "Python 3"
    },
    "language_info": {
      "name": "python"
    }
  },
  "cells": [
    {
      "cell_type": "markdown",
      "metadata": {
        "id": "view-in-github",
        "colab_type": "text"
      },
      "source": [
        "<a href=\"https://colab.research.google.com/github/dorosi616/Programmers-exercise/blob/main/230221.ipynb\" target=\"_parent\"><img src=\"https://colab.research.google.com/assets/colab-badge.svg\" alt=\"Open In Colab\"/></a>"
      ]
    },
    {
      "cell_type": "markdown",
      "source": [
        "#### **Lv2. JadenCase 문자열 만들기**\n",
        "https://school.programmers.co.kr/learn/courses/30/lessons/12951"
      ],
      "metadata": {
        "id": "cKv-JbZZuI-r"
      }
    },
    {
      "cell_type": "code",
      "execution_count": null,
      "metadata": {
        "id": "J5nZ-5r9uGTo"
      },
      "outputs": [],
      "source": [
        "def solution(s):\n",
        "    answer = ''\n",
        "    \n",
        "    for i in range(len(s)):\n",
        "        \n",
        "        if ((s[i] != \" \") and (s[i-1] == \" \")) or (i==0):\n",
        "            answer += s[i].upper() \n",
        "        elif (s[i] != \" \") and (s[i-1] != \" \"):\n",
        "            answer += s[i].lower()\n",
        "        else:\n",
        "            answer += \" \"\n",
        "            \n",
        "    \n",
        "    return answer"
      ]
    },
    {
      "cell_type": "code",
      "source": [
        "solution(\"3people unFollowed me\")"
      ],
      "metadata": {
        "colab": {
          "base_uri": "https://localhost:8080/",
          "height": 35
        },
        "id": "StLNKT2o-h6B",
        "outputId": "01f97dba-83f2-42b2-f4c0-01caf8a028ec"
      },
      "execution_count": null,
      "outputs": [
        {
          "output_type": "execute_result",
          "data": {
            "text/plain": [
              "'3people Unfollowed Me'"
            ],
            "application/vnd.google.colaboratory.intrinsic+json": {
              "type": "string"
            }
          },
          "metadata": {},
          "execution_count": 18
        }
      ]
    },
    {
      "cell_type": "code",
      "source": [
        "solution(\"for the last week\")"
      ],
      "metadata": {
        "colab": {
          "base_uri": "https://localhost:8080/",
          "height": 35
        },
        "id": "vE3AgN_M-n_U",
        "outputId": "c5f57312-f3be-4645-bf65-04cfbbe4e6cd"
      },
      "execution_count": null,
      "outputs": [
        {
          "output_type": "execute_result",
          "data": {
            "text/plain": [
              "'For The Last Week'"
            ],
            "application/vnd.google.colaboratory.intrinsic+json": {
              "type": "string"
            }
          },
          "metadata": {},
          "execution_count": 19
        }
      ]
    },
    {
      "cell_type": "markdown",
      "source": [
        "#### **Lv1. 삼총사**\n",
        "https://school.programmers.co.kr/learn/courses/30/lessons/131705"
      ],
      "metadata": {
        "id": "WyfLOrGr8eU5"
      }
    },
    {
      "cell_type": "code",
      "source": [
        "from itertools import combinations\n",
        "\n",
        "def solution(number):\n",
        "    answer = 0\n",
        "\n",
        "    combi = list(combinations(number, 3))\n",
        "\n",
        "    for c in combi:\n",
        "      if sum(c)==0:\n",
        "        answer += 1\n",
        "\n",
        "\n",
        "    return answer"
      ],
      "metadata": {
        "id": "0tvvijh9zdec"
      },
      "execution_count": null,
      "outputs": []
    },
    {
      "cell_type": "markdown",
      "source": [
        "#### **Lv1. 내적**\n",
        "https://school.programmers.co.kr/learn/courses/30/lessons/70128"
      ],
      "metadata": {
        "id": "DVa6szmt9fu1"
      }
    },
    {
      "cell_type": "code",
      "source": [
        "def solution(a, b):\n",
        "    answer = 0\n",
        "\n",
        "    for i in range(len(a)):\n",
        "      answer += a[i]*b[i]\n",
        "\n",
        "    return answer"
      ],
      "metadata": {
        "id": "ozkpmtkf80gY"
      },
      "execution_count": null,
      "outputs": []
    },
    {
      "cell_type": "code",
      "source": [
        "solution([1,2,3,4],\t[-3,-1,0,2])"
      ],
      "metadata": {
        "colab": {
          "base_uri": "https://localhost:8080/"
        },
        "id": "ZW8P2GJa9xl0",
        "outputId": "ee1844d3-4e81-425d-b49b-0a3dd7a562b3"
      },
      "execution_count": null,
      "outputs": [
        {
          "output_type": "execute_result",
          "data": {
            "text/plain": [
              "3"
            ]
          },
          "metadata": {},
          "execution_count": 47
        }
      ]
    },
    {
      "cell_type": "code",
      "source": [],
      "metadata": {
        "id": "QuSsrYkIXKUb"
      },
      "execution_count": null,
      "outputs": []
    }
  ]
}