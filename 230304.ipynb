{
  "nbformat": 4,
  "nbformat_minor": 0,
  "metadata": {
    "colab": {
      "provenance": [],
      "authorship_tag": "ABX9TyPiE4Z/JA4HtrmHxWCiOhWu",
      "include_colab_link": true
    },
    "kernelspec": {
      "name": "python3",
      "display_name": "Python 3"
    },
    "language_info": {
      "name": "python"
    }
  },
  "cells": [
    {
      "cell_type": "markdown",
      "metadata": {
        "id": "view-in-github",
        "colab_type": "text"
      },
      "source": [
        "<a href=\"https://colab.research.google.com/github/dorosi616/Programmers-exercise/blob/main/230304.ipynb\" target=\"_parent\"><img src=\"https://colab.research.google.com/assets/colab-badge.svg\" alt=\"Open In Colab\"/></a>"
      ]
    },
    {
      "cell_type": "markdown",
      "source": [
        "#### **Lv2. 다음 큰 숫자**\n",
        "https://school.programmers.co.kr/learn/courses/30/lessons/12911"
      ],
      "metadata": {
        "id": "ARZOEkbqscFb"
      }
    },
    {
      "cell_type": "code",
      "source": [
        "def solution(n):\n",
        "    answer = 0\n",
        "\n",
        "    n2 = str(bin(n))\n",
        "    answer = 0\n",
        "\n",
        "    for i in range(n+1, 1000001):\n",
        "      if str(bin(i)).count(\"1\") == n2.count(\"1\"):\n",
        "        answer = str(bin(i))\n",
        "        break\n",
        "\n",
        "    answer = int(answer,2)\n",
        "\n",
        "    return answer"
      ],
      "metadata": {
        "id": "dZ2lw1Pormz3"
      },
      "execution_count": null,
      "outputs": []
    },
    {
      "cell_type": "code",
      "source": [
        "solution(78)"
      ],
      "metadata": {
        "colab": {
          "base_uri": "https://localhost:8080/"
        },
        "id": "ezcZEymIsgYt",
        "outputId": "273fe2c9-3d61-43d9-d83c-59b70f8049ad"
      },
      "execution_count": null,
      "outputs": [
        {
          "output_type": "execute_result",
          "data": {
            "text/plain": [
              "83"
            ]
          },
          "metadata": {},
          "execution_count": 75
        }
      ]
    },
    {
      "cell_type": "code",
      "source": [
        "order = [4, 3, 1, 2, 5]\n",
        "cnt = 0\n",
        "\n",
        "for i in range(len(order)-1):\n",
        "  if order[i] < order[i+1]:\n",
        "    break\n",
        "  else:\n",
        "\n",
        "  cnt += 1 "
      ],
      "metadata": {
        "id": "KWTzK-Zwshwp"
      },
      "execution_count": null,
      "outputs": []
    }
  ]
}