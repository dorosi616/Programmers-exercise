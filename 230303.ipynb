{
  "nbformat": 4,
  "nbformat_minor": 0,
  "metadata": {
    "colab": {
      "provenance": [],
      "authorship_tag": "ABX9TyPRtFuBbIv658mxNCc1baV+",
      "include_colab_link": true
    },
    "kernelspec": {
      "name": "python3",
      "display_name": "Python 3"
    },
    "language_info": {
      "name": "python"
    }
  },
  "cells": [
    {
      "cell_type": "markdown",
      "metadata": {
        "id": "view-in-github",
        "colab_type": "text"
      },
      "source": [
        "<a href=\"https://colab.research.google.com/github/dorosi616/Programmers-exercise/blob/main/230303.ipynb\" target=\"_parent\"><img src=\"https://colab.research.google.com/assets/colab-badge.svg\" alt=\"Open In Colab\"/></a>"
      ]
    },
    {
      "cell_type": "markdown",
      "source": [
        "#### **Lv1. 시저암호**\n",
        "https://school.programmers.co.kr/learn/courses/30/lessons/12926"
      ],
      "metadata": {
        "id": "M-8WiQJ9_f_b"
      }
    },
    {
      "cell_type": "code",
      "execution_count": null,
      "metadata": {
        "id": "RvOVhqyt9oUt"
      },
      "outputs": [],
      "source": [
        "from string import ascii_lowercase\n",
        "from string import ascii_uppercase\n",
        "\n",
        "def solution(s, n):\n",
        "    answer = ''\n",
        "    \n",
        "    lower = list(ascii_lowercase)\n",
        "    upper = list(ascii_uppercase)\n",
        "    \n",
        "    for i in s:\n",
        "        if i == \" \":\n",
        "            answer += i\n",
        "            \n",
        "        elif i in lower:\n",
        "            if lower.index(i)+n >= len(lower):\n",
        "                answer += lower[(lower.index(i)+n)-len(lower)]\n",
        "            else:\n",
        "                answer += lower[lower.index(i)+n]\n",
        "                \n",
        "        else:\n",
        "            if upper.index(i)+n >= len(upper):\n",
        "                answer += upper[(upper.index(i)+n)-len(upper)]\n",
        "            else:\n",
        "                answer += upper[upper.index(i)+n]\n",
        "    \n",
        "    return answer"
      ]
    },
    {
      "cell_type": "code",
      "source": [
        "solution(\"a B z\", 4)"
      ],
      "metadata": {
        "colab": {
          "base_uri": "https://localhost:8080/",
          "height": 35
        },
        "id": "L_zioGkY-qtI",
        "outputId": "29c575b7-df62-4368-aee4-3848382c448f"
      },
      "execution_count": null,
      "outputs": [
        {
          "output_type": "execute_result",
          "data": {
            "text/plain": [
              "'e F d'"
            ],
            "application/vnd.google.colaboratory.intrinsic+json": {
              "type": "string"
            }
          },
          "metadata": {},
          "execution_count": 21
        }
      ]
    },
    {
      "cell_type": "markdown",
      "source": [
        "#### **Lv1. 최소직사각형**\n",
        "https://school.programmers.co.kr/learn/courses/30/lessons/86491"
      ],
      "metadata": {
        "id": "sJ07WowOBj6s"
      }
    },
    {
      "cell_type": "code",
      "source": [
        "def solution(sizes):\n",
        "    answer = 0\n",
        "    len1 = []\n",
        "    len2 = []\n",
        "    \n",
        "    for card in sizes:\n",
        "        card.sort()\n",
        "        len1.append(card[0])        \n",
        "        len2.append(card[1])  \n",
        "    \n",
        "    answer = max(len1)*max(len2)\n",
        "    \n",
        "    return answer"
      ],
      "metadata": {
        "id": "34_xdetC_c1j"
      },
      "execution_count": null,
      "outputs": []
    },
    {
      "cell_type": "code",
      "source": [
        "solution([[60, 50], [30, 70], [60, 30], [80, 40]])"
      ],
      "metadata": {
        "colab": {
          "base_uri": "https://localhost:8080/"
        },
        "id": "4jrGBJM8BqFN",
        "outputId": "49ac2db4-5ff0-42ca-81ec-1738775800cc"
      },
      "execution_count": null,
      "outputs": [
        {
          "output_type": "execute_result",
          "data": {
            "text/plain": [
              "4000"
            ]
          },
          "metadata": {},
          "execution_count": 23
        }
      ]
    },
    {
      "cell_type": "markdown",
      "source": [
        "#### **Lv1. 콜라 문제**\n",
        "https://school.programmers.co.kr/learn/courses/30/lessons/132267"
      ],
      "metadata": {
        "id": "j8a7HBuxEZjM"
      }
    },
    {
      "cell_type": "code",
      "source": [
        "def solution(a, b, n):\n",
        "    answer = 0\n",
        "\n",
        "    while n >= a:\n",
        "  \n",
        "      left = n%a      # 남은 병의 개수\n",
        "      n = (n//a)*b    # 받은 병의 개수\n",
        "      answer += n     \n",
        "      n += left       # 남은 병 + 받은 병의 개수\n",
        "\n",
        "    return answer"
      ],
      "metadata": {
        "id": "dDoWN_xkEnSE"
      },
      "execution_count": null,
      "outputs": []
    },
    {
      "cell_type": "code",
      "source": [
        "solution(2, 1, 20)"
      ],
      "metadata": {
        "colab": {
          "base_uri": "https://localhost:8080/"
        },
        "id": "rH3zjjOjFHp6",
        "outputId": "afaa46bc-b43d-4048-d140-ba9d021441f8"
      },
      "execution_count": null,
      "outputs": [
        {
          "output_type": "execute_result",
          "data": {
            "text/plain": [
              "19"
            ]
          },
          "metadata": {},
          "execution_count": 37
        }
      ]
    },
    {
      "cell_type": "markdown",
      "source": [
        "#### **Lv1. 푸드 파이트 대회**\n",
        "https://school.programmers.co.kr/learn/courses/30/lessons/134240"
      ],
      "metadata": {
        "id": "olB54iP8OOj6"
      }
    },
    {
      "cell_type": "code",
      "source": [
        "def solution(food):\n",
        "    answer = ''\n",
        "    \n",
        "    for i in range(1, len(food)):\n",
        "        for j in range(int(food[i]/2)):\n",
        "            answer += str(i)\n",
        "    \n",
        "    answer2 = ''.join(reversed(answer))\n",
        "    \n",
        "    \n",
        "    return answer + \"0\" + answer2"
      ],
      "metadata": {
        "id": "XER0aaetLInD"
      },
      "execution_count": null,
      "outputs": []
    },
    {
      "cell_type": "code",
      "source": [
        "solution([1, 3, 4, 6])"
      ],
      "metadata": {
        "colab": {
          "base_uri": "https://localhost:8080/",
          "height": 35
        },
        "id": "InRwY9IsOXQ3",
        "outputId": "ed39d479-78a6-4909-fb6d-ba746e022797"
      },
      "execution_count": null,
      "outputs": [
        {
          "output_type": "execute_result",
          "data": {
            "text/plain": [
              "'1223330333221'"
            ],
            "application/vnd.google.colaboratory.intrinsic+json": {
              "type": "string"
            }
          },
          "metadata": {},
          "execution_count": 40
        }
      ]
    },
    {
      "cell_type": "markdown",
      "source": [
        "#### **Lv1. 폰켓몬**\n",
        "https://school.programmers.co.kr/learn/courses/30/lessons/1845"
      ],
      "metadata": {
        "id": "RgcBZNY1QX0A"
      }
    },
    {
      "cell_type": "code",
      "source": [
        "# 시간초과\n",
        "\n",
        "from itertools import combinations\n",
        "\n",
        "def solution(nums):\n",
        "    answer = 0\n",
        "    \n",
        "    dict_nums = set(nums)\n",
        "    \n",
        "    combi = list(combinations(dict_nums, len(nums)//2))\n",
        "    \n",
        "    if combi == [] :\n",
        "        answer = len(dict_nums)\n",
        "    else:\n",
        "        answer = len(combi[0])\n",
        "    \n",
        "    return answer"
      ],
      "metadata": {
        "id": "ID5RyZWJOZ9K"
      },
      "execution_count": null,
      "outputs": []
    },
    {
      "cell_type": "code",
      "source": [
        "def solution(nums):\n",
        "    answer = 0\n",
        "    \n",
        "    dict_nums = set(nums)\n",
        "    \n",
        "    answer = min(len(dict_nums), len(nums)/2)\n",
        "    \n",
        "    return answer"
      ],
      "metadata": {
        "id": "ienMev-fQkzs"
      },
      "execution_count": null,
      "outputs": []
    },
    {
      "cell_type": "code",
      "source": [
        "solution([3,3,3,2,2,2])"
      ],
      "metadata": {
        "colab": {
          "base_uri": "https://localhost:8080/"
        },
        "id": "3hEyNJPiQlas",
        "outputId": "87396972-9f06-499e-f851-4ac3d5c63199"
      },
      "execution_count": null,
      "outputs": [
        {
          "output_type": "execute_result",
          "data": {
            "text/plain": [
              "2"
            ]
          },
          "metadata": {},
          "execution_count": 48
        }
      ]
    },
    {
      "cell_type": "code",
      "source": [],
      "metadata": {
        "id": "kcF1e2q0Srta"
      },
      "execution_count": null,
      "outputs": []
    }
  ]
}