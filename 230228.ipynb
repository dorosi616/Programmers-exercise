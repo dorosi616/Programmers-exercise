{
  "nbformat": 4,
  "nbformat_minor": 0,
  "metadata": {
    "colab": {
      "provenance": [],
      "authorship_tag": "ABX9TyPvb4SgpdMp07OwRb5OxL3x",
      "include_colab_link": true
    },
    "kernelspec": {
      "name": "python3",
      "display_name": "Python 3"
    },
    "language_info": {
      "name": "python"
    }
  },
  "cells": [
    {
      "cell_type": "markdown",
      "metadata": {
        "id": "view-in-github",
        "colab_type": "text"
      },
      "source": [
        "<a href=\"https://colab.research.google.com/github/dorosi616/Programmers-exercise/blob/main/230228.ipynb\" target=\"_parent\"><img src=\"https://colab.research.google.com/assets/colab-badge.svg\" alt=\"Open In Colab\"/></a>"
      ]
    },
    {
      "cell_type": "markdown",
      "source": [
        "#### **Lv1. 3진법 뒤집기**\n",
        "https://school.programmers.co.kr/learn/courses/30/lessons/68935\n",
        "\n",
        "* divmod() : 몫과 나머지를 같이 반환해주는 함수\n",
        "* int(x, base) : base 진법으로 구성된 str 형식의 수를 10진법으로 변환해 줌"
      ],
      "metadata": {
        "id": "C_yfUBvzZPFf"
      }
    },
    {
      "cell_type": "code",
      "execution_count": null,
      "metadata": {
        "id": "ts7axBVNZMw1"
      },
      "outputs": [],
      "source": [
        "def solution(n):\n",
        "    answer = 0\n",
        "    three = ''\n",
        "    \n",
        "    while n >= 1:\n",
        "        n, rest = divmod(n, 3)\n",
        "        three += str(rest)\n",
        "\n",
        "    answer = int(three,3)  \n",
        "    \n",
        "    return answer"
      ]
    },
    {
      "cell_type": "code",
      "source": [
        "solution(45)"
      ],
      "metadata": {
        "colab": {
          "base_uri": "https://localhost:8080/"
        },
        "id": "m5oGuwlkaavf",
        "outputId": "f5b7422b-d2d2-497c-c6a4-e297c356df5b"
      },
      "execution_count": null,
      "outputs": [
        {
          "output_type": "execute_result",
          "data": {
            "text/plain": [
              "7"
            ]
          },
          "metadata": {},
          "execution_count": 4
        }
      ]
    },
    {
      "cell_type": "markdown",
      "source": [
        "#### **Lv1. 두 개 뽑아서 더하기**\n",
        "https://school.programmers.co.kr/learn/courses/30/lessons/68644"
      ],
      "metadata": {
        "id": "I-MzO6cua_WU"
      }
    },
    {
      "cell_type": "code",
      "source": [
        "def solution(numbers):\n",
        "    answer = []\n",
        "    \n",
        "    for i in range(len(numbers)):\n",
        "        for j in range(i+1, len(numbers)):\n",
        "            if numbers[i]+numbers[j] not in answer:\n",
        "                answer.append(numbers[i]+numbers[j])\n",
        "                \n",
        "    answer.sort()\n",
        "                \n",
        "    return answer"
      ],
      "metadata": {
        "id": "Mob2oeyYacpH"
      },
      "execution_count": null,
      "outputs": []
    },
    {
      "cell_type": "code",
      "source": [
        "solution([2,1,3,4,1])"
      ],
      "metadata": {
        "colab": {
          "base_uri": "https://localhost:8080/"
        },
        "id": "x5P-fCIVbRC3",
        "outputId": "23d9dffb-5dd7-40a7-ffd2-6d15c044f012"
      },
      "execution_count": null,
      "outputs": [
        {
          "output_type": "execute_result",
          "data": {
            "text/plain": [
              "[2, 3, 4, 5, 6, 7]"
            ]
          },
          "metadata": {},
          "execution_count": 6
        }
      ]
    },
    {
      "cell_type": "code",
      "source": [
        "s = \"110010101001\"\t\n",
        "\n",
        "zero = 0\n",
        "cnt = 0\n",
        "\n",
        "while s != \"1\":\n",
        "  \n",
        "  for i in s:\n",
        "      if i==\"0\":\n",
        "          zero += 1\n",
        "\n",
        "  d, s = divmod(zero, 2)\n",
        "  s = str(s)\n",
        "  \n",
        "  cnt += 1\n",
        "  "
      ],
      "metadata": {
        "colab": {
          "base_uri": "https://localhost:8080/"
        },
        "id": "unC8yVbLbSi4",
        "outputId": "ad965e66-65f0-43cf-9efb-5d73d9ea59d5"
      },
      "execution_count": null,
      "outputs": [
        {
          "output_type": "stream",
          "name": "stdout",
          "text": [
            "0\n"
          ]
        }
      ]
    },
    {
      "cell_type": "code",
      "source": [],
      "metadata": {
        "id": "nC9vPJWBebmJ"
      },
      "execution_count": null,
      "outputs": []
    }
  ]
}