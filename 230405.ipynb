{
  "nbformat": 4,
  "nbformat_minor": 0,
  "metadata": {
    "colab": {
      "provenance": [],
      "authorship_tag": "ABX9TyOHeMPAHJfSSvTlAN5gvF0J",
      "include_colab_link": true
    },
    "kernelspec": {
      "name": "python3",
      "display_name": "Python 3"
    },
    "language_info": {
      "name": "python"
    }
  },
  "cells": [
    {
      "cell_type": "markdown",
      "metadata": {
        "id": "view-in-github",
        "colab_type": "text"
      },
      "source": [
        "<a href=\"https://colab.research.google.com/github/dorosi616/Programmers-exercise/blob/main/230405.ipynb\" target=\"_parent\"><img src=\"https://colab.research.google.com/assets/colab-badge.svg\" alt=\"Open In Colab\"/></a>"
      ]
    },
    {
      "cell_type": "markdown",
      "source": [
        "#### **Lv2. 가장 큰 수**\n",
        "https://school.programmers.co.kr/learn/courses/30/lessons/42746"
      ],
      "metadata": {
        "id": "kt354TGYI7PN"
      }
    },
    {
      "cell_type": "code",
      "execution_count": null,
      "metadata": {
        "id": "p2i-xRefI6bc"
      },
      "outputs": [],
      "source": [
        "def solution(numbers):\n",
        "    answer = ''\n",
        "    \n",
        "    new = [str(n) for n in numbers]\n",
        "    new.sort(reverse=True, key=lambda x:x*3)\n",
        "    \n",
        "    answer = str(int(\"\".join(new)))\n",
        "    \n",
        "    return answer"
      ]
    },
    {
      "cell_type": "markdown",
      "source": [
        "#### **Lv2. H-Index**\n",
        "https://school.programmers.co.kr/learn/courses/30/lessons/42747"
      ],
      "metadata": {
        "id": "TM6iYmnByOPl"
      }
    },
    {
      "cell_type": "code",
      "source": [
        "def solution(citations):\n",
        "    answer = 0\n",
        "    \n",
        "    citations.sort(reverse=True)   \n",
        "    \n",
        "    for i in range(1, len(citations)+1):\n",
        "        if citations[i-1] >= i:\n",
        "            answer = i\n",
        "    \n",
        "    return answer"
      ],
      "metadata": {
        "id": "nmKE-TDCxgEO"
      },
      "execution_count": null,
      "outputs": []
    },
    {
      "cell_type": "code",
      "source": [
        "solution([7, 0, 6, 1, 5])"
      ],
      "metadata": {
        "colab": {
          "base_uri": "https://localhost:8080/"
        },
        "id": "CfRIkWFpxY4p",
        "outputId": "ca0859c2-0b46-4081-9b56-00054dc6076f"
      },
      "execution_count": null,
      "outputs": [
        {
          "output_type": "execute_result",
          "data": {
            "text/plain": [
              "3"
            ]
          },
          "metadata": {},
          "execution_count": 5
        }
      ]
    },
    {
      "cell_type": "markdown",
      "source": [
        "#### **Lv1. 모의고사**\n",
        "https://school.programmers.co.kr/learn/courses/30/lessons/42840"
      ],
      "metadata": {
        "id": "PeGdsWx1_CCs"
      }
    },
    {
      "cell_type": "code",
      "source": [
        "def solution(answers):\n",
        "    answer = []\n",
        "    \n",
        "    student = {1:[1, 2, 3, 4, 5], 2:[2, 1, 2, 3, 2, 4, 2, 5], 3:[3, 3, 1, 1, 2, 2, 4, 4, 5, 5]}\n",
        "    score = {1:0, 2:0, 3:0}\n",
        "  \n",
        "    for k,v in student.items():\n",
        "        for i in range(len(answers)):\n",
        "            if answers[i]==student[k][(i%len(student[k]))]:\n",
        "                score[k] += 1\n",
        "\n",
        "    for k,v in score.items() :\n",
        "        if v==max(score.values()):\n",
        "            answer.append(k)\n",
        "            \n",
        "    return answer"
      ],
      "metadata": {
        "id": "59gE37KPyM8A"
      },
      "execution_count": null,
      "outputs": []
    },
    {
      "cell_type": "code",
      "source": [
        "def solution(answers):\n",
        "    answer = []\n",
        "    total = {1:0, 2:0, 3:0}    \n",
        "    \n",
        "    check = {1:[1, 2, 3, 4, 5], 2:[2, 1, 2, 3, 2, 4, 2, 5], 3:[3, 3, 1, 1, 2, 2, 4, 4, 5, 5]}\n",
        "    \n",
        "    for k,v in check.items():\n",
        "        for i in range(len(answers)):\n",
        "            if answers[i]==v[i%len(v)]:\n",
        "                total[k] += 1\n",
        "        \n",
        "    new = sorted(total.items(), reverse=True, key=lambda x:x[1])  \n",
        "    \n",
        "    for n in new:\n",
        "        if new[0][1]==n[1]:\n",
        "            answer.append(n[0])\n",
        "        \n",
        "    return answer"
      ],
      "metadata": {
        "id": "WXk3CBl5xcZP"
      },
      "execution_count": null,
      "outputs": []
    },
    {
      "cell_type": "markdown",
      "source": [
        "#### **Lv2.소수 찾기**\n",
        "https://school.programmers.co.kr/learn/courses/30/lessons/42839"
      ],
      "metadata": {
        "id": "fRf7gxA36Tom"
      }
    },
    {
      "cell_type": "code",
      "source": [
        "from itertools import permutations\n",
        "\n",
        "def solution(numbers):\n",
        "\n",
        "  answer = []\n",
        "  nums = [n for n in numbers]\n",
        "  per = []\n",
        "\n",
        "  for i in range(1, len(numbers)+1):\n",
        "    per += list(permutations(nums, i))    # 순열조합\n",
        "  new_nums = [int((\"\").join(p)) for p in per]\n",
        "\n",
        "\n",
        "  for n in new_nums:\n",
        "    if n < 2:         # 2보다 작은 1,0의 경우는 소수 아님\n",
        "      continue\n",
        "    check = True\n",
        "    for i in range(2, int(n**0.5)+1):    # n의 제곱근 보다 작은 숫자까지만 나눗셈\n",
        "      if n % i == 0:                     # 하나라도 나눠떨어진다면 소수 아님\n",
        "        check = False\n",
        "        break\n",
        "    if check:\n",
        "      answer.append(n)                   # 소수일 경우 answer에 추가\n",
        "\n",
        "  return len(set(answer))"
      ],
      "metadata": {
        "id": "hGaV7Xuz6TJE"
      },
      "execution_count": null,
      "outputs": []
    },
    {
      "cell_type": "code",
      "source": [
        "from itertools import permutations\n",
        "\n",
        "def solution(numbers):\n",
        "    answer = 0\n",
        "    combi = []\n",
        "    \n",
        "    for i in range(1, len(numbers)+1):\n",
        "        combi += list(permutations(numbers, i))\n",
        "    nums = set([int(\"\".join(c)) for c in combi])\n",
        "    \n",
        "    for n in nums:\n",
        "        if n < 2:         # 2보다 작은 1,0의 경우는 소수 아님\n",
        "            continue\n",
        "        res = True\n",
        "        for i in range(2, int(n**0.5)+1):\n",
        "            if n%i == 0: \n",
        "                res = False\n",
        "                break\n",
        "                \n",
        "        if res : answer += 1\n",
        "    \n",
        "    return answer"
      ],
      "metadata": {
        "id": "nVefLU_U-4l0"
      },
      "execution_count": null,
      "outputs": []
    },
    {
      "cell_type": "markdown",
      "source": [
        "#### **Lv2. 카펫**\n",
        "https://school.programmers.co.kr/learn/courses/30/lessons/42842"
      ],
      "metadata": {
        "id": "qX7NmSaG_Ovc"
      }
    },
    {
      "cell_type": "code",
      "source": [
        "def solution(brown, yellow):\n",
        "    answer = []\n",
        "    a, b = 0, 0\n",
        "    \n",
        "    total = brown + yellow\n",
        "    \n",
        "    for i in range(1,total+1):\n",
        "        if total%i == 0:\n",
        "            a = i\n",
        "            b = total//i\n",
        "            if (a>=b) and (yellow==(a-2)*(b-2)):\n",
        "                return a, b\n",
        "    \n",
        "    \n",
        "    return answer"
      ],
      "metadata": {
        "id": "pJsQAR7T_Pkz"
      },
      "execution_count": null,
      "outputs": []
    },
    {
      "cell_type": "code",
      "source": [
        "def solution(brown, yellow):\n",
        "    total = brown + yellow\n",
        "    \n",
        "    for a in range(total,0,-1):\n",
        "        if total%a==0:\n",
        "            b = total//a\n",
        "            if yellow == (a-2)*(b-2):\n",
        "                return [a,b]\n",
        "    "
      ],
      "metadata": {
        "id": "YzyyhVYBA2Kk"
      },
      "execution_count": null,
      "outputs": []
    }
  ]
}