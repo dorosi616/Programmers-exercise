{
  "nbformat": 4,
  "nbformat_minor": 0,
  "metadata": {
    "colab": {
      "provenance": [],
      "authorship_tag": "ABX9TyOv9eO7R5shflN6KxZ1UJcc",
      "include_colab_link": true
    },
    "kernelspec": {
      "name": "python3",
      "display_name": "Python 3"
    },
    "language_info": {
      "name": "python"
    }
  },
  "cells": [
    {
      "cell_type": "markdown",
      "metadata": {
        "id": "view-in-github",
        "colab_type": "text"
      },
      "source": [
        "<a href=\"https://colab.research.google.com/github/dorosi616/Programmers-exercise/blob/main/230310_ipynb%EC%9D%98_%EC%82%AC%EB%B3%B8.ipynb\" target=\"_parent\"><img src=\"https://colab.research.google.com/assets/colab-badge.svg\" alt=\"Open In Colab\"/></a>"
      ]
    },
    {
      "cell_type": "markdown",
      "source": [
        "#### **Lv2. 이진 변환 반복하기**\n",
        "https://school.programmers.co.kr/learn/courses/30/lessons/70129"
      ],
      "metadata": {
        "id": "DvvFDK8L1osl"
      }
    },
    {
      "cell_type": "code",
      "execution_count": null,
      "metadata": {
        "id": "TvuhBOyldcj2"
      },
      "outputs": [],
      "source": [
        "def solution(s):\n",
        "    answer = []\n",
        "    bin_cnt = 0\n",
        "    cnt_0 = 0\n",
        "    cnt_0_all = 0\n",
        "\n",
        "    while s != \"1\":\n",
        "  \n",
        "      cnt_1 = s.count(\"1\")\n",
        "      cnt_0 = s.count(\"0\")\n",
        "      s = s.replace(\"0\", \"\")\n",
        "      s = bin(cnt_1)[2:]\n",
        "      bin_cnt += 1\n",
        "      s = str(s)\n",
        "      cnt_0_all += cnt_0\n",
        "    \n",
        "    return [bin_cnt, cnt_0_all]"
      ]
    },
    {
      "cell_type": "code",
      "source": [
        "solution(\t\"110010101001\")"
      ],
      "metadata": {
        "colab": {
          "base_uri": "https://localhost:8080/"
        },
        "id": "nW9sFw5r8l8b",
        "outputId": "039b0502-478a-4ad7-94c9-8232e76d253f"
      },
      "execution_count": null,
      "outputs": [
        {
          "output_type": "execute_result",
          "data": {
            "text/plain": [
              "[3, 8]"
            ]
          },
          "metadata": {},
          "execution_count": 26
        }
      ]
    },
    {
      "cell_type": "code",
      "source": [
        "solution(\t\"01110\")"
      ],
      "metadata": {
        "colab": {
          "base_uri": "https://localhost:8080/"
        },
        "id": "OQOkybqi8p6P",
        "outputId": "a214c003-d4ae-491f-f1e9-e28bc8124c52"
      },
      "execution_count": null,
      "outputs": [
        {
          "output_type": "execute_result",
          "data": {
            "text/plain": [
              "[3, 3]"
            ]
          },
          "metadata": {},
          "execution_count": 27
        }
      ]
    },
    {
      "cell_type": "code",
      "source": [
        "solution(\"1111111\")"
      ],
      "metadata": {
        "colab": {
          "base_uri": "https://localhost:8080/"
        },
        "id": "0CkJ0qjB8qAz",
        "outputId": "fb3814c4-2ee7-4f99-804c-fbb186350d3a"
      },
      "execution_count": null,
      "outputs": [
        {
          "output_type": "execute_result",
          "data": {
            "text/plain": [
              "[4, 1]"
            ]
          },
          "metadata": {},
          "execution_count": 28
        }
      ]
    },
    {
      "cell_type": "markdown",
      "source": [
        "#### **Lv2. 짝지어 제거하기**\n",
        "https://school.programmers.co.kr/learn/courses/30/lessons/12973"
      ],
      "metadata": {
        "id": "kbx-0SCnALZd"
      }
    },
    {
      "cell_type": "code",
      "source": [
        "# 실패\n",
        "\n",
        "def solution(s):\n",
        "    answer = -1\n",
        "    cnt = 0\n",
        "\n",
        "    while s != \"\":\n",
        "        for i in range(len(s)-1):\n",
        "            if s[i]==s[i+1]:\n",
        "                s = s.replace(s[i:i+2],\"\")\n",
        "                break\n",
        "        \n",
        "        if cnt == len(s):\n",
        "            return 0\n",
        "        \n",
        "        cnt += 1\n",
        "\n",
        "    return 1"
      ],
      "metadata": {
        "id": "cIs9kc5l7IHr"
      },
      "execution_count": null,
      "outputs": []
    },
    {
      "cell_type": "code",
      "source": [
        "# stack 사용\n",
        "# https://velog.io/@insutance/%ED%94%84%EB%A1%9C%EA%B7%B8%EB%9E%98%EB%A8%B8%EC%8A%A4Python-%EC%A7%9D%EC%A7%80%EC%96%B4-%EC%A0%9C%EA%B1%B0%ED%95%98%EA%B8%B0\n",
        "\n",
        "def solution(s):\n",
        "    answer = -1\n",
        "\n",
        "    stack = []\n",
        "    for i in range(len(s)):\n",
        "        if stack==[]: stack.append(s[i])\n",
        "        \n",
        "        elif stack[-1]==s[i]:\n",
        "            stack.pop()\n",
        "        else:\n",
        "            stack.append(s[i])\n",
        "            \n",
        "    if stack : return 0\n",
        "    else: return 1"
      ],
      "metadata": {
        "id": "eY9HVRwsDyG1"
      },
      "execution_count": null,
      "outputs": []
    },
    {
      "cell_type": "code",
      "source": [
        "solution(\"baabaa\")"
      ],
      "metadata": {
        "colab": {
          "base_uri": "https://localhost:8080/"
        },
        "id": "uVz3AebZDy-p",
        "outputId": "bfb3be01-51e7-40d7-d91c-2a2af87f4d61"
      },
      "execution_count": null,
      "outputs": [
        {
          "output_type": "execute_result",
          "data": {
            "text/plain": [
              "1"
            ]
          },
          "metadata": {},
          "execution_count": 30
        }
      ]
    },
    {
      "cell_type": "code",
      "source": [
        "solution(\"cdcd\")"
      ],
      "metadata": {
        "colab": {
          "base_uri": "https://localhost:8080/"
        },
        "id": "hsaZ4V7bD4TH",
        "outputId": "53bfb353-051b-4a1c-eeff-25a8116975a0"
      },
      "execution_count": null,
      "outputs": [
        {
          "output_type": "execute_result",
          "data": {
            "text/plain": [
              "0"
            ]
          },
          "metadata": {},
          "execution_count": 31
        }
      ]
    },
    {
      "cell_type": "markdown",
      "source": [
        "#### **Lv2. 영어 끝말잇기**\n",
        "https://school.programmers.co.kr/learn/courses/30/lessons/12981"
      ],
      "metadata": {
        "id": "LA80v4hcKi5b"
      }
    },
    {
      "cell_type": "code",
      "source": [
        "import math\n",
        "\n",
        "def solution(n, words):\n",
        "    answer = []\n",
        "    num, turn = 0, 0\n",
        "    stack = []\n",
        "    check = False\n",
        "    \n",
        "    for i in range(len(words)-1):\n",
        "        stack.append(words[i])\n",
        "        if words[i+1] in stack:\n",
        "            num = (i+2)%n\n",
        "            turn = math.ceil((i+2)/n)\n",
        "            if (i+2) >= n : check = True\n",
        "            break\n",
        "        if stack[-1][-1] != words[i+1][0]:\n",
        "            num = (i+2)%n\n",
        "            turn = math.ceil((i+2)/n)\n",
        "            if (i+2) >= n : check = True\n",
        "            break\n",
        "        \n",
        "    if check and num==0: num=n\n",
        "        \n",
        "    return num, turn"
      ],
      "metadata": {
        "id": "5rxLRupdD5aw"
      },
      "execution_count": null,
      "outputs": []
    },
    {
      "cell_type": "code",
      "source": [
        "solution(3,\t[\"tank\", \"kick\", \"know\", \"wheel\", \"land\", \"dream\", \"mother\", \"robot\", \"tank\"])"
      ],
      "metadata": {
        "colab": {
          "base_uri": "https://localhost:8080/"
        },
        "id": "mhdNahIsKohu",
        "outputId": "4788af14-d1af-4879-9b97-878e00d406d9"
      },
      "execution_count": null,
      "outputs": [
        {
          "output_type": "execute_result",
          "data": {
            "text/plain": [
              "(3, 3)"
            ]
          },
          "metadata": {},
          "execution_count": 33
        }
      ]
    },
    {
      "cell_type": "code",
      "source": [
        "solution(5,\t[\"hello\", \"observe\", \"effect\", \"take\", \"either\", \"recognize\", \"encourage\", \"ensure\", \"establish\", \"hang\", \"gather\", \"refer\", \"reference\", \"estimate\", \"executive\"])"
      ],
      "metadata": {
        "colab": {
          "base_uri": "https://localhost:8080/"
        },
        "id": "E8dATPDNKsQS",
        "outputId": "8b0b673f-6597-4ce8-94ec-f5a6a4665d5e"
      },
      "execution_count": null,
      "outputs": [
        {
          "output_type": "execute_result",
          "data": {
            "text/plain": [
              "(0, 0)"
            ]
          },
          "metadata": {},
          "execution_count": 34
        }
      ]
    }
  ]
}
