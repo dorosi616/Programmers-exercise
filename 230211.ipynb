{
  "nbformat": 4,
  "nbformat_minor": 0,
  "metadata": {
    "colab": {
      "provenance": [],
      "authorship_tag": "ABX9TyOogwKA5CII5UGiVqNIqSpf",
      "include_colab_link": true
    },
    "kernelspec": {
      "name": "python3",
      "display_name": "Python 3"
    },
    "language_info": {
      "name": "python"
    }
  },
  "cells": [
    {
      "cell_type": "markdown",
      "metadata": {
        "id": "view-in-github",
        "colab_type": "text"
      },
      "source": [
        "<a href=\"https://colab.research.google.com/github/dorosi616/Programmers-exercise/blob/main/230211.ipynb\" target=\"_parent\"><img src=\"https://colab.research.google.com/assets/colab-badge.svg\" alt=\"Open In Colab\"/></a>"
      ]
    },
    {
      "cell_type": "markdown",
      "source": [
        "#### **Lv2. 숫자블록**\n",
        "https://school.programmers.co.kr/learn/courses/30/lessons/12923"
      ],
      "metadata": {
        "id": "S7h_W298UhiU"
      }
    },
    {
      "cell_type": "code",
      "source": [
        "begin = 1\n",
        "end = 10\n",
        "answer = [0 for i in range(begin, end+1)]\n",
        "\n",
        "for num in range(begin, end+1):  \n",
        "  for i in range(begin, end//2+1):\n",
        "    if (num%i == 0) and (num != i):\n",
        "      answer[num-1] = i\n",
        "\n",
        "answer"
      ],
      "metadata": {
        "colab": {
          "base_uri": "https://localhost:8080/"
        },
        "id": "BzQygrkGTU1m",
        "outputId": "bb5b01ec-abb2-4936-cecf-6ca573c07c7d"
      },
      "execution_count": null,
      "outputs": [
        {
          "output_type": "execute_result",
          "data": {
            "text/plain": [
              "[0, 1, 1, 2, 1, 3, 1, 4, 3, 5]"
            ]
          },
          "metadata": {},
          "execution_count": 13
        }
      ]
    },
    {
      "cell_type": "code",
      "source": [
        "begin = 2\n",
        "end = 10\n",
        "answer = [0 for i in range(begin, end+1)]\n",
        "\n",
        "for i in range(begin, end+1): \n",
        "  for j in range(i-1, 0, -1):\n",
        "    if (i%j==0):\n",
        "      answer[len(answer)-(end-i)-1] = j\n",
        "      break"
      ],
      "metadata": {
        "id": "rFvId-bRZRtX"
      },
      "execution_count": null,
      "outputs": []
    },
    {
      "cell_type": "code",
      "source": [
        "begin = 2\n",
        "end = 10\n",
        "answer = [i for i in range(begin, end+1)]\n",
        "\n",
        "answer"
      ],
      "metadata": {
        "colab": {
          "base_uri": "https://localhost:8080/"
        },
        "id": "tuvK_BE2eg1q",
        "outputId": "7dcfb8fa-9c30-4b1b-944b-5550e36deec2"
      },
      "execution_count": null,
      "outputs": [
        {
          "output_type": "execute_result",
          "data": {
            "text/plain": [
              "[2, 3, 4, 5, 6, 7, 8, 9, 10]"
            ]
          },
          "metadata": {},
          "execution_count": 68
        }
      ]
    },
    {
      "cell_type": "code",
      "source": [
        "answer"
      ],
      "metadata": {
        "colab": {
          "base_uri": "https://localhost:8080/"
        },
        "id": "N4nzn1zMZ8DE",
        "outputId": "3c089de0-8b2e-4442-a27a-2bf93b2a3f38"
      },
      "execution_count": null,
      "outputs": [
        {
          "output_type": "execute_result",
          "data": {
            "text/plain": [
              "[1, 1, 2, 1, 3, 1, 4, 3, 5]"
            ]
          },
          "metadata": {},
          "execution_count": 10
        }
      ]
    },
    {
      "cell_type": "code",
      "source": [
        "def solution(begin, end):\n",
        "    answer = [0 for i in range(begin, end+1)]\n",
        "\n",
        "    for num in range(begin, end+1):  \n",
        "      for i in range(begin, end//2+1):\n",
        "        if (num%i == 0) and (num != i):\n",
        "          answer[num-1] = i\n",
        "\n",
        "    return answer"
      ],
      "metadata": {
        "id": "5eNfweyqW_Vt"
      },
      "execution_count": null,
      "outputs": []
    },
    {
      "cell_type": "code",
      "source": [
        "\t[0, 1, 1, 2, 1, 3, 1, 4, 3, 5]"
      ],
      "metadata": {
        "id": "nRgLjKgIX3F9"
      },
      "execution_count": null,
      "outputs": []
    }
  ]
}