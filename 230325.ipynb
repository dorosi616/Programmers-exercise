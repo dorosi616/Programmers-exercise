{
  "nbformat": 4,
  "nbformat_minor": 0,
  "metadata": {
    "colab": {
      "provenance": [],
      "authorship_tag": "ABX9TyOwt65+MRksFZaOQKhdvDJf",
      "include_colab_link": true
    },
    "kernelspec": {
      "name": "python3",
      "display_name": "Python 3"
    },
    "language_info": {
      "name": "python"
    }
  },
  "cells": [
    {
      "cell_type": "markdown",
      "metadata": {
        "id": "view-in-github",
        "colab_type": "text"
      },
      "source": [
        "<a href=\"https://colab.research.google.com/github/dorosi616/Programmers-exercise/blob/main/230325.ipynb\" target=\"_parent\"><img src=\"https://colab.research.google.com/assets/colab-badge.svg\" alt=\"Open In Colab\"/></a>"
      ]
    },
    {
      "cell_type": "markdown",
      "source": [
        "#### **Lv2. 카펫**\n",
        "https://school.programmers.co.kr/learn/courses/30/lessons/42842"
      ],
      "metadata": {
        "id": "Pfbs_D1g83Oc"
      }
    },
    {
      "cell_type": "code",
      "execution_count": null,
      "metadata": {
        "id": "wyfAGL3q80SY"
      },
      "outputs": [],
      "source": [
        "def solution(brown, yellow):\n",
        "    answer = []\n",
        "    a, b = 0, 0\n",
        "    \n",
        "    total = brown + yellow\n",
        "    \n",
        "    for i in range(1,total+1):\n",
        "        if total%i == 0:\n",
        "            a = i\n",
        "            b = total//i\n",
        "            if (a>=b) and (yellow==(a-2)*(b-2)):\n",
        "                return a, b\n",
        "    \n",
        "    \n",
        "    return answer"
      ]
    },
    {
      "cell_type": "code",
      "source": [
        "solution(10, 2)"
      ],
      "metadata": {
        "colab": {
          "base_uri": "https://localhost:8080/"
        },
        "id": "d4ewhm7fITUS",
        "outputId": "fd1dedfb-e2d8-4556-e671-bdafcf067ecd"
      },
      "execution_count": null,
      "outputs": [
        {
          "output_type": "execute_result",
          "data": {
            "text/plain": [
              "(4, 3)"
            ]
          },
          "metadata": {},
          "execution_count": 2
        }
      ]
    },
    {
      "cell_type": "markdown",
      "source": [
        "#### **Lv2. 캐시**\n",
        "https://school.programmers.co.kr/learn/courses/30/lessons/17680"
      ],
      "metadata": {
        "id": "u_RfEBH4PBcv"
      }
    },
    {
      "cell_type": "code",
      "source": [
        "def solution(cacheSize, cities):\n",
        "    time = 0\n",
        "    cache = []\n",
        "    cities = [i.lower() for i in cities]\n",
        "    \n",
        "    if cacheSize==0 : return len(cities)*5\n",
        "    \n",
        "    for i in range(len(cities)):\n",
        "        if cities[i] in cache:          # cache hit\n",
        "            cache.remove(cities[i])\n",
        "            cache.append(cities[i])\n",
        "            time += 1\n",
        "        \n",
        "        else:                           # cache miss\n",
        "            if len(cache) < cacheSize:\n",
        "                cache.append(cities[i])\n",
        "                time += 5\n",
        "            else:\n",
        "                del cache[0]\n",
        "                cache.append(cities[i])\n",
        "                time += 5\n",
        "    \n",
        "    return time"
      ],
      "metadata": {
        "id": "Ri1gVpUQIWhV"
      },
      "execution_count": null,
      "outputs": []
    },
    {
      "cell_type": "markdown",
      "source": [
        "#### **Lv2. 괄호 회전하기**\n",
        "https://school.programmers.co.kr/learn/courses/30/lessons/76502"
      ],
      "metadata": {
        "id": "Gqx_rcMbVlCy"
      }
    },
    {
      "cell_type": "code",
      "source": [
        "from collections import deque\n",
        "\n",
        "def solution(s):\n",
        "    cnt = 0\n",
        "    temp = deque(s)\n",
        "\n",
        "    for i in range(len(s)):\n",
        "      stack = []\n",
        "      for j in range(len(temp)):\n",
        "        if stack==[]: stack.append(temp[j])\n",
        "\n",
        "        else:\n",
        "          if temp[j]==\")\" and stack[-1]==\"(\" :\n",
        "              stack.pop()\n",
        "          elif temp[j]==\"]\" and stack[-1]==\"[\" :\n",
        "              stack.pop()\n",
        "          elif temp[j]==\"}\" and stack[-1]==\"{\" :\n",
        "              stack.pop()\n",
        "          else:\n",
        "            stack.append(temp[j])\n",
        "        \n",
        "           \n",
        "      if stack==[] : cnt+=1\n",
        "\n",
        "      temp.append(temp.popleft())\n",
        "        \n",
        "        \n",
        "    return cnt"
      ],
      "metadata": {
        "id": "NiGy3YrhVkTr"
      },
      "execution_count": null,
      "outputs": []
    },
    {
      "cell_type": "code",
      "source": [
        "solution(\"[](){}\")"
      ],
      "metadata": {
        "colab": {
          "base_uri": "https://localhost:8080/"
        },
        "id": "Pwj-GRrWV4Gd",
        "outputId": "4e3e1539-2026-41da-e11d-6c6264b4046f"
      },
      "execution_count": null,
      "outputs": [
        {
          "output_type": "execute_result",
          "data": {
            "text/plain": [
              "3"
            ]
          },
          "metadata": {},
          "execution_count": 34
        }
      ]
    },
    {
      "cell_type": "code",
      "source": [
        "solution(\"[)(]\")"
      ],
      "metadata": {
        "colab": {
          "base_uri": "https://localhost:8080/"
        },
        "id": "9RthIGd0ccCX",
        "outputId": "642e69e5-38f7-4fe2-fc6a-2b90197d4a18"
      },
      "execution_count": null,
      "outputs": [
        {
          "output_type": "execute_result",
          "data": {
            "text/plain": [
              "0"
            ]
          },
          "metadata": {},
          "execution_count": 35
        }
      ]
    },
    {
      "cell_type": "code",
      "source": [
        "# 연습\n",
        "\n",
        "s = \"[)(]\"\n",
        "\n",
        "cnt = 0\n",
        "temp = deque(s)\n",
        "\n",
        "for i in range(len(s)):\n",
        "  stack = []\n",
        "  for j in range(len(temp)):\n",
        "    print(temp, stack)\n",
        "    if stack==[]: stack.append(temp[j])\n",
        "\n",
        "    if temp[j]==\")\" and stack[-1]==\"(\" :\n",
        "        stack.pop()\n",
        "    elif temp[j]==\"]\" and stack[-1]==\"[\" :\n",
        "        stack.pop()\n",
        "    elif temp[j]==\"}\" and stack[-1]==\"{\" :\n",
        "        stack.pop()\n",
        "    else:\n",
        "      stack.append(temp[j])           # 여기!\n",
        "    \n",
        "        \n",
        "  if stack==[] : cnt+=1\n",
        "\n",
        "  temp.append(temp.popleft())"
      ],
      "metadata": {
        "colab": {
          "base_uri": "https://localhost:8080/"
        },
        "id": "o9kTCKfnVkLo",
        "outputId": "4fdddd25-061f-4bf4-c6f0-871128aa2ac9"
      },
      "execution_count": null,
      "outputs": [
        {
          "output_type": "stream",
          "name": "stdout",
          "text": [
            "deque(['[', ')', '(', ']']) []\n",
            "deque(['[', ')', '(', ']']) ['[', '[']\n",
            "deque(['[', ')', '(', ']']) ['[', '[', ')']\n",
            "deque(['[', ')', '(', ']']) ['[', '[', ')', '(']\n",
            "deque([')', '(', ']', '[']) []\n",
            "deque([')', '(', ']', '[']) [')', ')']\n",
            "deque([')', '(', ']', '[']) [')', ')', '(']\n",
            "deque([')', '(', ']', '[']) [')', ')', '(', ']']\n",
            "deque(['(', ']', '[', ')']) []\n",
            "deque(['(', ']', '[', ')']) ['(', '(']\n",
            "deque(['(', ']', '[', ')']) ['(', '(', ']']\n",
            "deque(['(', ']', '[', ')']) ['(', '(', ']', '[']\n",
            "deque([']', '[', ')', '(']) []\n",
            "deque([']', '[', ')', '(']) [']', ']']\n",
            "deque([']', '[', ')', '(']) [']', ']', '[']\n",
            "deque([']', '[', ')', '(']) [']', ']', '[', ')']\n"
          ]
        }
      ]
    },
    {
      "cell_type": "markdown",
      "source": [
        "#### **Lv2. n^2 배열 자르기**\n",
        "https://school.programmers.co.kr/learn/courses/30/lessons/87390"
      ],
      "metadata": {
        "id": "FZHUmDgctkrI"
      }
    },
    {
      "cell_type": "code",
      "source": [
        "def solution(n, left, right):\n",
        "    arr = []\n",
        "    \n",
        "    for i in range(left, right+1):\n",
        "        arr.append(max(i//n, i%n)+1)\n",
        "        \n",
        "    return arr"
      ],
      "metadata": {
        "id": "8OQ2hvMK8pti"
      },
      "execution_count": null,
      "outputs": []
    },
    {
      "cell_type": "code",
      "source": [
        "# 시간초과\n",
        "\n",
        "def solution(n, left, right):\n",
        "    answer = []\n",
        "    \n",
        "    row = [i for i in range(1,n+1)]\n",
        "    arr = []\n",
        "    \n",
        "    for i in range(n):\n",
        "        for j in range(i):\n",
        "            arr.append([row[i]])\n",
        "        arr.append(row[i:])\n",
        "    \n",
        "    arr = sum(arr, [])\n",
        "    \n",
        "    return arr[left:right+1]"
      ],
      "metadata": {
        "id": "BNVeXsaSVqR8"
      },
      "execution_count": null,
      "outputs": []
    },
    {
      "cell_type": "code",
      "source": [
        "# 시간초과\n",
        "\n",
        "def solution(n, left, right):\n",
        "    arr = []\n",
        "    \n",
        "    for i in range(n):\n",
        "        for j in range(n):\n",
        "            arr.append(max(i+1, j+1))\n",
        "    \n",
        "    return arr[left:right+1]"
      ],
      "metadata": {
        "id": "3cYPhxkz1U_5"
      },
      "execution_count": null,
      "outputs": []
    },
    {
      "cell_type": "markdown",
      "source": [
        "#### **Lv2. [1차] 뉴스 클러스터링**\n",
        "https://school.programmers.co.kr/learn/courses/30/lessons/17677"
      ],
      "metadata": {
        "id": "ZZJvP9BJB4GV"
      }
    },
    {
      "cell_type": "code",
      "source": [
        "from collections import Counter\n",
        "def solution(str1, str2):\n",
        "    \n",
        "  str1 = str1.lower()\n",
        "  str2 = str2.lower()\n",
        "\n",
        "  arr1 = []\n",
        "  arr2 = [] \n",
        "\n",
        "  for i in range(len(str1) - 1):\n",
        "    if str1[i].isalpha() and str1[i+1].isalpha():\n",
        "      arr1.append(str1[i:i + 2])\n",
        "\n",
        "  for i in range(len(str2) - 1):\n",
        "    if str2[i].isalpha() and str2[i + 1].isalpha():\n",
        "      arr2.append(str2[i:i + 2])\n",
        "\n",
        "  if len(arr1)==0 and len(arr2)==0 :  # 둘 다 공집합일 경우\n",
        "    return 65536\n",
        "\n",
        "  # Counter 사용 -> (원소, 개수)\n",
        "  c1 = Counter(arr1)    \n",
        "  c2 = Counter(arr2)\n",
        "    \n",
        "  union_set = sum((c1 | c2).values())     # 합집합\n",
        "  inter_set = sum((c1 & c2).values())     # 교집합\n",
        "\n",
        "  return int(inter_set/union_set*65536)"
      ],
      "metadata": {
        "id": "RDTEk3o9B3Nf"
      },
      "execution_count": null,
      "outputs": []
    },
    {
      "cell_type": "markdown",
      "source": [
        "#### **Lv2. 프린터**\n",
        "https://school.programmers.co.kr/learn/courses/30/lessons/42587"
      ],
      "metadata": {
        "id": "g20n1LbHD3l7"
      }
    },
    {
      "cell_type": "code",
      "source": [
        "from collections import deque\n",
        "\n",
        "def solution(priorities, location):\n",
        "    \n",
        "    q = deque((v,i) for i,v in enumerate(priorities))\n",
        "    cnt = 0\n",
        "    \n",
        "    while True:\n",
        "        e = q.popleft()                     # 순위가\n",
        "        if q and (e[0] < max(q)[0]):        # 우선순위가 아닐경우\n",
        "            q.append(e)                     # 뒤에 추가\n",
        "            \n",
        "        else:                       # 순위가 우선순위면 뒤에 추가하지 않고\n",
        "            cnt += 1                # location일 때까지 반복하면서 1씩 더하기\n",
        "            if e[1] == location:\n",
        "                break\n",
        "            \n",
        "    \n",
        "    return cnt"
      ],
      "metadata": {
        "id": "A_nB6-WVC5sX"
      },
      "execution_count": null,
      "outputs": []
    },
    {
      "cell_type": "markdown",
      "source": [],
      "metadata": {
        "id": "2Vy-WodTPusY"
      }
    },
    {
      "cell_type": "code",
      "source": [
        "# BFS : 너비우선탐색\n",
        "\n",
        "def solution(numbers, target):\n",
        "  leaves = [0]            # 모든 계산 결과\n",
        "  cnt = 0\n",
        "\n",
        "  for num in numbers:\n",
        "    temp = []\n",
        "\n",
        "    # 자식노드\n",
        "    for leaf in leaves:\n",
        "      temp.append(leaf+num) # 더하는 경우\n",
        "      temp.append(leaf-num) # 빼는 경우\n",
        "\n",
        "    leaves = temp           \n",
        "\n",
        "  for leaf in leaves:\n",
        "    if leaf == target:\n",
        "      cnt += 1\n",
        "\n",
        "  return cnt    "
      ],
      "metadata": {
        "id": "FQnbQzOAR4H1"
      },
      "execution_count": null,
      "outputs": []
    },
    {
      "cell_type": "code",
      "source": [
        "solution([1, 1, 1, 1, 1],\t3)"
      ],
      "metadata": {
        "colab": {
          "base_uri": "https://localhost:8080/"
        },
        "id": "3akEefJWUXuy",
        "outputId": "11955603-15ee-4733-d590-d8cd590c7321"
      },
      "execution_count": null,
      "outputs": [
        {
          "output_type": "execute_result",
          "data": {
            "text/plain": [
              "5"
            ]
          },
          "metadata": {},
          "execution_count": 15
        }
      ]
    },
    {
      "cell_type": "code",
      "source": [
        "# DFS : 깊이우선탐색\n",
        "\n",
        "cnt = 0\n",
        "\n",
        "def dfs(numbers, target, depth, total):    # depth = numbers의 index\n",
        "\n",
        "  global cnt\n",
        "  \n",
        "  # 깊이가 끝까지 닿고 sum이 target과 같으면\n",
        "  if (depth==len(numbers)) and (total==target):\n",
        "    cnt += 1\n",
        "    return\n",
        "\n",
        "  # 끝까지 탐색했는데 sum이 target과 다르면\n",
        "  elif depth==len(numbers):\n",
        "    return\n",
        "\n",
        "  # 재귀함수\n",
        "  dfs(numbers, target, depth+1, total+numbers[depth])\n",
        "  dfs(numbers, target, depth+1, total-numbers[depth])\n",
        "\n",
        "def solution(numbers, target):\n",
        "  \n",
        "  global cnt\n",
        "  answer = dfs(numbers, target, 0, 0)\n",
        "  \n",
        "  return cnt"
      ],
      "metadata": {
        "id": "tnQjO2DZR39a"
      },
      "execution_count": null,
      "outputs": []
    },
    {
      "cell_type": "code",
      "source": [
        "# 방법3\n",
        "\n",
        "from itertools import product\n",
        "\n",
        "def solution(numbers, target):\n",
        "    length = len(numbers)\n",
        "    # 전체 가능한 case 구하기\n",
        "    cases = []\n",
        "    for _ in range(length):\n",
        "        cases.append([-1, 1])\n",
        "    cases = list(product(*cases))\n",
        "\n",
        "    # target 인 경우만 count 하기\n",
        "    count = 0\n",
        "    for case in cases:\n",
        "        s = 0\n",
        "        for i in range(length):\n",
        "            s += case[i] * numbers[i]\n",
        "        if s == target:\n",
        "            count += 1\n",
        "    return count"
      ],
      "metadata": {
        "colab": {
          "base_uri": "https://localhost:8080/"
        },
        "id": "e6za95e4PuMp",
        "outputId": "43e909f4-5188-4bf9-d81c-ccabbaf44658"
      },
      "execution_count": null,
      "outputs": [
        {
          "output_type": "execute_result",
          "data": {
            "text/plain": [
              "[(-1, -1, -1, -1),\n",
              " (-1, -1, -1, 1),\n",
              " (-1, -1, 1, -1),\n",
              " (-1, -1, 1, 1),\n",
              " (-1, 1, -1, -1),\n",
              " (-1, 1, -1, 1),\n",
              " (-1, 1, 1, -1),\n",
              " (-1, 1, 1, 1),\n",
              " (1, -1, -1, -1),\n",
              " (1, -1, -1, 1),\n",
              " (1, -1, 1, -1),\n",
              " (1, -1, 1, 1),\n",
              " (1, 1, -1, -1),\n",
              " (1, 1, -1, 1),\n",
              " (1, 1, 1, -1),\n",
              " (1, 1, 1, 1)]"
            ]
          },
          "metadata": {},
          "execution_count": 7
        }
      ]
    },
    {
      "cell_type": "code",
      "source": [],
      "metadata": {
        "id": "FHyqRH9wQS-f"
      },
      "execution_count": null,
      "outputs": []
    }
  ]
}