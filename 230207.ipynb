{
  "nbformat": 4,
  "nbformat_minor": 0,
  "metadata": {
    "colab": {
      "provenance": [],
      "authorship_tag": "ABX9TyPobF89qr2Fjtvuv0ELPhWt",
      "include_colab_link": true
    },
    "kernelspec": {
      "name": "python3",
      "display_name": "Python 3"
    },
    "language_info": {
      "name": "python"
    }
  },
  "cells": [
    {
      "cell_type": "markdown",
      "metadata": {
        "id": "view-in-github",
        "colab_type": "text"
      },
      "source": [
        "<a href=\"https://colab.research.google.com/github/dorosi616/Programmers-exercise/blob/main/230207.ipynb\" target=\"_parent\"><img src=\"https://colab.research.google.com/assets/colab-badge.svg\" alt=\"Open In Colab\"/></a>"
      ]
    },
    {
      "cell_type": "markdown",
      "source": [
        "#### **Lv1. 가장 가까운 같은 글자**\n",
        "https://school.programmers.co.kr/learn/courses/30/lessons/142086"
      ],
      "metadata": {
        "id": "0BLYPouQrAYz"
      }
    },
    {
      "cell_type": "code",
      "execution_count": null,
      "metadata": {
        "id": "M05krFWGqukg"
      },
      "outputs": [],
      "source": [
        "def solution(s):\n",
        "\n",
        "    words = []\n",
        "    check = []\n",
        "    idx = dict()\n",
        "\n",
        "    for i in range(len(s)):\n",
        "      if s[i] not in words:\n",
        "        check.append(-1)\n",
        "      else:\n",
        "        check.append(i - idx[s[i]])\n",
        "\n",
        "      idx[s[i]] = i\n",
        "      words.append(s[i])\n",
        "\n",
        "\n",
        "    return check"
      ]
    },
    {
      "cell_type": "code",
      "source": [
        "s = \"foobar\"\n",
        "\n",
        "words = []\n",
        "check = []\n",
        "idx = dict()\n",
        "\n",
        "for i in range(len(s)):\n",
        "  if s[i] not in words:\n",
        "    check.append(-1)\n",
        "  else:\n",
        "    check.append(i - idx[s[i]])\n",
        "\n",
        "  idx[s[i]] = i\n",
        "  words.append(s[i])"
      ],
      "metadata": {
        "id": "9wJe8FgUrOXG"
      },
      "execution_count": null,
      "outputs": []
    },
    {
      "cell_type": "code",
      "source": [
        "check"
      ],
      "metadata": {
        "colab": {
          "base_uri": "https://localhost:8080/"
        },
        "id": "dqOLWJSExIla",
        "outputId": "aa97efb3-242d-4cd9-de0a-19a08a1432b8"
      },
      "execution_count": null,
      "outputs": [
        {
          "output_type": "execute_result",
          "data": {
            "text/plain": [
              "[-1, -1, 1, -1, -1, -1]"
            ]
          },
          "metadata": {},
          "execution_count": 38
        }
      ]
    },
    {
      "cell_type": "markdown",
      "source": [
        "#### **Lv1. 문자열 나누기**\n",
        "https://school.programmers.co.kr/learn/courses/30/lessons/140108"
      ],
      "metadata": {
        "id": "EWOZ9J1kxdgk"
      }
    },
    {
      "cell_type": "code",
      "source": [
        "\"banana\"\t3\n",
        "\"abracadabra\"\t6\n",
        "\"aaabbaccccabba\"\t3"
      ],
      "metadata": {
        "id": "y_3DoD4iyFHd"
      },
      "execution_count": null,
      "outputs": []
    },
    {
      "cell_type": "code",
      "source": [
        "def solution(s):\n",
        "    \n",
        "    answer = 0\n",
        "    cnt1 = 0\n",
        "    cnt2 = 0\n",
        "\n",
        "    for i in range(len(s)):\n",
        "      if cnt1==cnt2:\n",
        "        answer += 1\n",
        "        w = s[i]\n",
        "\n",
        "      if w==s[i]:\n",
        "        cnt1 += 1\n",
        "\n",
        "      else:\n",
        "        cnt2 += 1\n",
        "\n",
        "    return answer"
      ],
      "metadata": {
        "id": "HdKUljTzxKOg"
      },
      "execution_count": null,
      "outputs": []
    },
    {
      "cell_type": "code",
      "source": [
        "s = \"aaabbaccccabba\"\n",
        "\n",
        "cnt1 = 0\n",
        "cnt2 = 0\n",
        "answer = 0\n",
        "\n",
        "for i in range(len(s)):\n",
        "  if cnt1==cnt2:\n",
        "    answer += 1\n",
        "    w = s[i]\n",
        "\n",
        "  if w==s[i]:\n",
        "    cnt1 += 1\n",
        "\n",
        "  else:\n",
        "    cnt2 += 1\n",
        "\n",
        "print(answer)  \n"
      ],
      "metadata": {
        "id": "9qJ-4pN5yJDy",
        "colab": {
          "base_uri": "https://localhost:8080/"
        },
        "outputId": "2c226b00-1032-4122-f39d-715e479ff88f"
      },
      "execution_count": null,
      "outputs": [
        {
          "output_type": "stream",
          "name": "stdout",
          "text": [
            "3\n"
          ]
        }
      ]
    },
    {
      "cell_type": "markdown",
      "source": [
        "#### **Lv1. 약수의 합**\n",
        "https://school.programmers.co.kr/learn/courses/30/lessons/12928"
      ],
      "metadata": {
        "id": "1lijVmXD4irq"
      }
    },
    {
      "cell_type": "code",
      "source": [
        "def solution(n):\n",
        "    answer = 0\n",
        "\n",
        "    for i in range(1, n+1):\n",
        "      if n%i==0:\n",
        "        answer += i\n",
        "\n",
        "    return answer"
      ],
      "metadata": {
        "id": "KpGGUxjr4o2r"
      },
      "execution_count": null,
      "outputs": []
    },
    {
      "cell_type": "code",
      "source": [
        "solution(5)"
      ],
      "metadata": {
        "colab": {
          "base_uri": "https://localhost:8080/"
        },
        "id": "sEA3QFgm46DW",
        "outputId": "8142f3f6-efa5-4bb2-e031-e53f207b953a"
      },
      "execution_count": null,
      "outputs": [
        {
          "output_type": "execute_result",
          "data": {
            "text/plain": [
              "6"
            ]
          },
          "metadata": {},
          "execution_count": 41
        }
      ]
    },
    {
      "cell_type": "markdown",
      "source": [
        "#### **Lv1. 핸드폰 번호 가리기**\n",
        "https://school.programmers.co.kr/learn/courses/30/lessons/12948"
      ],
      "metadata": {
        "id": "Tbt3IUKe5UiB"
      }
    },
    {
      "cell_type": "code",
      "source": [
        "def solution(phone_number):\n",
        "    answer = ''\n",
        "\n",
        "    answer = \"*\"*len(phone_number[:-4])\n",
        "    answer += phone_number[-4:]\n",
        "\n",
        "    return answer"
      ],
      "metadata": {
        "id": "BydoqN_J5F_8"
      },
      "execution_count": null,
      "outputs": []
    },
    {
      "cell_type": "code",
      "source": [
        "solution(\"01033334444\")"
      ],
      "metadata": {
        "colab": {
          "base_uri": "https://localhost:8080/",
          "height": 35
        },
        "id": "Cs5oiCH15zWl",
        "outputId": "b5211859-5abe-4ef1-e012-009ba8922129"
      },
      "execution_count": null,
      "outputs": [
        {
          "output_type": "execute_result",
          "data": {
            "text/plain": [
              "'*******4444'"
            ],
            "application/vnd.google.colaboratory.intrinsic+json": {
              "type": "string"
            }
          },
          "metadata": {},
          "execution_count": 43
        }
      ]
    },
    {
      "cell_type": "code",
      "source": [
        "solution(\"027778888\")"
      ],
      "metadata": {
        "colab": {
          "base_uri": "https://localhost:8080/",
          "height": 35
        },
        "id": "l51eRCoP52Ww",
        "outputId": "9d40dda0-8675-4a08-9d6d-fb97ab633a3d"
      },
      "execution_count": null,
      "outputs": [
        {
          "output_type": "execute_result",
          "data": {
            "text/plain": [
              "'*****8888'"
            ],
            "application/vnd.google.colaboratory.intrinsic+json": {
              "type": "string"
            }
          },
          "metadata": {},
          "execution_count": 44
        }
      ]
    },
    {
      "cell_type": "markdown",
      "source": [
        "#### **Lv1. 햄버거 만들기**\n",
        "https://school.programmers.co.kr/learn/courses/30/lessons/133502"
      ],
      "metadata": {
        "id": "NplWxi4w6s-E"
      }
    },
    {
      "cell_type": "code",
      "source": [
        "ingredient = [1, 3, 2, 1, 2, 1, 3, 1, 2]\n",
        "\n",
        "check = []\n",
        "cnt = 0\n",
        "\n",
        "for i in range(len(ingredient)):\n",
        "  check.append(ingredient[i])\n",
        "  if check[-4:]==[1,2,3,1]:\n",
        "    cnt += 1\n",
        "    del check[-4:]\n",
        "\n",
        "print(cnt)"
      ],
      "metadata": {
        "id": "CGAb57RCFchP",
        "colab": {
          "base_uri": "https://localhost:8080/"
        },
        "outputId": "d15678f8-bb29-4a51-e1c6-3d8eb478dc4a"
      },
      "execution_count": null,
      "outputs": [
        {
          "output_type": "stream",
          "name": "stdout",
          "text": [
            "0\n"
          ]
        }
      ]
    },
    {
      "cell_type": "code",
      "source": [
        "def solution(ingredient):\n",
        "\n",
        "  check = []\n",
        "  cnt = 0\n",
        "\n",
        "  for i in range(len(ingredient)):\n",
        "    check.append(ingredient[i])\n",
        "    if check[-4:]==[1,2,3,1]:\n",
        "      cnt += 1\n",
        "      del check[-4:]\n",
        "\n",
        "  return cnt"
      ],
      "metadata": {
        "id": "T88Fboc0s9uW"
      },
      "execution_count": null,
      "outputs": []
    },
    {
      "cell_type": "code",
      "source": [
        "solution([2, 1, 1, 2, 3, 1, 2, 3, 1])"
      ],
      "metadata": {
        "colab": {
          "base_uri": "https://localhost:8080/"
        },
        "id": "AXRGiIT-uN0Q",
        "outputId": "cbd38ebd-615e-428a-cdea-083dfa4aa8e6"
      },
      "execution_count": null,
      "outputs": [
        {
          "output_type": "execute_result",
          "data": {
            "text/plain": [
              "2"
            ]
          },
          "metadata": {},
          "execution_count": 7
        }
      ]
    },
    {
      "cell_type": "code",
      "source": [],
      "metadata": {
        "id": "K_hZNwbetB0i"
      },
      "execution_count": null,
      "outputs": []
    }
  ]
}