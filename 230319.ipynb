{
  "nbformat": 4,
  "nbformat_minor": 0,
  "metadata": {
    "colab": {
      "provenance": [],
      "authorship_tag": "ABX9TyPSPj0e4jBjCtBNN7LI2zH9",
      "include_colab_link": true
    },
    "kernelspec": {
      "name": "python3",
      "display_name": "Python 3"
    },
    "language_info": {
      "name": "python"
    }
  },
  "cells": [
    {
      "cell_type": "markdown",
      "metadata": {
        "id": "view-in-github",
        "colab_type": "text"
      },
      "source": [
        "<a href=\"https://colab.research.google.com/github/dorosi616/Programmers-exercise/blob/main/230319.ipynb\" target=\"_parent\"><img src=\"https://colab.research.google.com/assets/colab-badge.svg\" alt=\"Open In Colab\"/></a>"
      ]
    },
    {
      "cell_type": "markdown",
      "source": [
        "#### **Lv2. 튜플**\n",
        "https://school.programmers.co.kr/learn/courses/30/lessons/64065"
      ],
      "metadata": {
        "id": "uu00XhHlqoug"
      }
    },
    {
      "cell_type": "code",
      "source": [
        "def solution(s):\n",
        "    answer = []\n",
        "    \n",
        "    s = s[2:-2]\n",
        "    s = s.split(\"},{\")\n",
        "    s.sort(key=lambda x:len(x))\n",
        "    \n",
        "    for i in range(len(s)):\n",
        "        new = s[i].split(\",\")\n",
        "        for j in new:\n",
        "            if int(j) not in answer:\n",
        "                answer.append(int(j))\n",
        "    \n",
        "    return answer"
      ],
      "metadata": {
        "id": "vXQtzbvTqqan"
      },
      "execution_count": null,
      "outputs": []
    },
    {
      "cell_type": "markdown",
      "source": [
        "#### **Lv2. 예상 대진표**\n",
        "https://school.programmers.co.kr/learn/courses/30/lessons/12985"
      ],
      "metadata": {
        "id": "I_bWbcj-w8yq"
      }
    },
    {
      "cell_type": "code",
      "source": [
        "def solution(n,a,b):\n",
        "    cnt = 0\n",
        "\n",
        "    while a != b:\n",
        "        cnt += 1\n",
        "        a = (a+1)//2    # a, b 홀짝 관계없이 1 더해서 2로 나눈 몫으로 나누면\n",
        "        b = (b+1)//2    # 다음 라운드의 번호를 구할 수 있음음\n",
        "\n",
        "    return cnt"
      ],
      "metadata": {
        "id": "lcc-MalVw9I0"
      },
      "execution_count": null,
      "outputs": []
    },
    {
      "cell_type": "code",
      "source": [
        "solution(8, 4, 7)"
      ],
      "metadata": {
        "colab": {
          "base_uri": "https://localhost:8080/"
        },
        "id": "qC7HVLtYx0vR",
        "outputId": "50613e2f-e6b7-41bc-f404-072f354fe1ec"
      },
      "execution_count": null,
      "outputs": [
        {
          "output_type": "execute_result",
          "data": {
            "text/plain": [
              "3"
            ]
          },
          "metadata": {},
          "execution_count": 2
        }
      ]
    },
    {
      "cell_type": "markdown",
      "source": [
        "#### **Lv2. 멀리뛰기**\n",
        "https://school.programmers.co.kr/learn/courses/30/lessons/12914"
      ],
      "metadata": {
        "id": "qFa_rEmO0Pr5"
      }
    },
    {
      "cell_type": "code",
      "source": [
        "# 피보나치 수열\n",
        "\n",
        "def solution(n):\n",
        "    \n",
        "    if n < 2:\n",
        "        return n\n",
        "    \n",
        "    dp = [0 for _ in range(n)]\n",
        "    dp[0] = 1\n",
        "    dp[1] = 2\n",
        "    \n",
        "    for i in range(2, n):\n",
        "        dp[i] = dp[i-1] + dp[i-2]\n",
        "        # dp[2] = dp[1] + dp[0] = 3\n",
        "        # dp[3] = dp[2] + dp[1] = 5\n",
        "    \n",
        "        \n",
        "    return dp[-1]%1234567\n",
        "    "
      ],
      "metadata": {
        "id": "gRcaSSsVx6mD"
      },
      "execution_count": null,
      "outputs": []
    },
    {
      "cell_type": "code",
      "source": [],
      "metadata": {
        "id": "3nzeEOhy0Xux"
      },
      "execution_count": null,
      "outputs": []
    }
  ]
}