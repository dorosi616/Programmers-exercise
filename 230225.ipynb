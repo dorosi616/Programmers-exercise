{
  "nbformat": 4,
  "nbformat_minor": 0,
  "metadata": {
    "colab": {
      "provenance": [],
      "authorship_tag": "ABX9TyMl7jymzvOAWwqWEuZzmPT2",
      "include_colab_link": true
    },
    "kernelspec": {
      "name": "python3",
      "display_name": "Python 3"
    },
    "language_info": {
      "name": "python"
    }
  },
  "cells": [
    {
      "cell_type": "markdown",
      "metadata": {
        "id": "view-in-github",
        "colab_type": "text"
      },
      "source": [
        "<a href=\"https://colab.research.google.com/github/dorosi616/Programmers-exercise/blob/main/230225.ipynb\" target=\"_parent\"><img src=\"https://colab.research.google.com/assets/colab-badge.svg\" alt=\"Open In Colab\"/></a>"
      ]
    },
    {
      "cell_type": "markdown",
      "source": [
        "#### **Lv2. 점프와 순간이동**\n",
        "https://school.programmers.co.kr/learn/courses/30/lessons/12980"
      ],
      "metadata": {
        "id": "JPkIfBmrNKqa"
      }
    },
    {
      "cell_type": "code",
      "execution_count": null,
      "metadata": {
        "id": "5H5FWYeeNHUC"
      },
      "outputs": [],
      "source": [
        "def solution(n):\n",
        "    ans = 0\n",
        "\n",
        "    while n != 0:\n",
        "      if n % 2 == 0:\n",
        "        n = n // 2\n",
        "    \n",
        "      else:\n",
        "        n = n-1\n",
        "        ans += 1\n",
        "\n",
        "    return ans"
      ]
    },
    {
      "cell_type": "markdown",
      "source": [
        "#### **Lv2. 124 나라의 숫자**\n",
        "https://school.programmers.co.kr/learn/courses/30/lessons/12899"
      ],
      "metadata": {
        "id": "CGgJl7H1WwnP"
      }
    },
    {
      "cell_type": "code",
      "source": [
        "# 참고 : https://hmkim312.github.io/posts/124%EB%82%98%EB%9D%BC%EC%9D%98_%EC%88%AB%EC%9E%90/"
      ],
      "metadata": {
        "id": "lWIK6NxjIg7V"
      },
      "execution_count": null,
      "outputs": []
    },
    {
      "cell_type": "code",
      "source": [
        "def solution(n):\n",
        "    answer = ''\n",
        "    nums = [4, 1, 2]\n",
        "    \n",
        "    while n >= 1:\n",
        "        n, rest = divmod(n, 3)\n",
        "\n",
        "        answer = str(nums[rest]) + answer\n",
        "        if rest == 0:\n",
        "            n -= 1\n",
        "        \n",
        "    return answer"
      ],
      "metadata": {
        "id": "e53Z7xPyGCuY"
      },
      "execution_count": null,
      "outputs": []
    },
    {
      "cell_type": "code",
      "source": [
        "solution(15)"
      ],
      "metadata": {
        "colab": {
          "base_uri": "https://localhost:8080/",
          "height": 35
        },
        "id": "1u3ug_XgGD53",
        "outputId": "03faca37-2fcb-4a33-b6a1-93ffccd4d04d"
      },
      "execution_count": null,
      "outputs": [
        {
          "output_type": "execute_result",
          "data": {
            "text/plain": [
              "'114'"
            ],
            "application/vnd.google.colaboratory.intrinsic+json": {
              "type": "string"
            }
          },
          "metadata": {},
          "execution_count": 49
        }
      ]
    },
    {
      "cell_type": "markdown",
      "source": [
        "#### **Lv2. 메뉴 리뉴얼**\n",
        "https://school.programmers.co.kr/learn/courses/30/lessons/72411"
      ],
      "metadata": {
        "id": "F8HCtQOvj11a"
      }
    },
    {
      "cell_type": "code",
      "source": [
        "from itertools import combinations\n",
        "from collections import Counter\n",
        "\n",
        "def solution(orders, course):\n",
        "\n",
        "    orders = [\"\".join(sorted(x)) for x in orders]\n",
        "\n",
        "    res = []\n",
        "\n",
        "    for j in course:\n",
        "      cnt = []\n",
        "      for i in range(len(orders)):\n",
        "        cnt += list(combinations(orders[i], j))\n",
        "\n",
        "      if Counter(cnt).most_common() != [] :\n",
        "        common = Counter(cnt).most_common()[0][1]\n",
        "        for k in Counter(cnt).most_common():\n",
        "          if (k[1] == common) and (common >= 2):\n",
        "            e = \"\".join(k[0])\n",
        "            res.append(e)\n",
        "\n",
        "    res.sort()\n",
        "\n",
        "    return res"
      ],
      "metadata": {
        "id": "kVUJJDgAq5P-"
      },
      "execution_count": null,
      "outputs": []
    },
    {
      "cell_type": "code",
      "source": [
        "solution([\"ABCFG\", \"AC\", \"CDE\", \"ACDE\", \"BCFG\", \"ACDEH\"], [2,3,4])"
      ],
      "metadata": {
        "colab": {
          "base_uri": "https://localhost:8080/"
        },
        "id": "0-xmaQdhrPre",
        "outputId": "f1ed05a6-b1a7-4c17-9400-035973390cf9"
      },
      "execution_count": null,
      "outputs": [
        {
          "output_type": "execute_result",
          "data": {
            "text/plain": [
              "['AC', 'ACDE', 'BCFG', 'CDE']"
            ]
          },
          "metadata": {},
          "execution_count": 100
        }
      ]
    },
    {
      "cell_type": "code",
      "source": [
        "solution([\"ABCDE\", \"AB\", \"CD\", \"ADE\", \"XYZ\", \"XYZ\", \"ACD\"],\t[2,3,5])"
      ],
      "metadata": {
        "colab": {
          "base_uri": "https://localhost:8080/"
        },
        "id": "Y2EOn4H-rjLg",
        "outputId": "bc6b13a1-eae6-43f6-f364-6e5ad845e1e3"
      },
      "execution_count": null,
      "outputs": [
        {
          "output_type": "execute_result",
          "data": {
            "text/plain": [
              "['ACD', 'AD', 'ADE', 'CD', 'XYZ']"
            ]
          },
          "metadata": {},
          "execution_count": 99
        }
      ]
    },
    {
      "cell_type": "code",
      "source": [
        "solution([\"XYZ\", \"XWY\", \"WXA\"],\t[2,3,4])"
      ],
      "metadata": {
        "colab": {
          "base_uri": "https://localhost:8080/"
        },
        "id": "zeNiiVHZsV4X",
        "outputId": "26b34f2e-25f2-4530-86e5-90bb29a23f7d"
      },
      "execution_count": null,
      "outputs": [
        {
          "output_type": "execute_result",
          "data": {
            "text/plain": [
              "['WX', 'XY']"
            ]
          },
          "metadata": {},
          "execution_count": 120
        }
      ]
    },
    {
      "cell_type": "code",
      "source": [],
      "metadata": {
        "id": "did41jbFFIrA"
      },
      "execution_count": null,
      "outputs": []
    }
  ]
}