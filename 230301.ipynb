{
  "nbformat": 4,
  "nbformat_minor": 0,
  "metadata": {
    "colab": {
      "provenance": [],
      "authorship_tag": "ABX9TyMKgH4r8UO1Rp6ZivTlvrmx",
      "include_colab_link": true
    },
    "kernelspec": {
      "name": "python3",
      "display_name": "Python 3"
    },
    "language_info": {
      "name": "python"
    }
  },
  "cells": [
    {
      "cell_type": "markdown",
      "metadata": {
        "id": "view-in-github",
        "colab_type": "text"
      },
      "source": [
        "<a href=\"https://colab.research.google.com/github/dorosi616/Programmers-exercise/blob/main/230301.ipynb\" target=\"_parent\"><img src=\"https://colab.research.google.com/assets/colab-badge.svg\" alt=\"Open In Colab\"/></a>"
      ]
    },
    {
      "cell_type": "markdown",
      "source": [
        "#### **Lv0. 배열 회전시키기**\n",
        "https://school.programmers.co.kr/learn/courses/30/lessons/120844"
      ],
      "metadata": {
        "id": "7WZu1jpWtQEV"
      }
    },
    {
      "cell_type": "code",
      "execution_count": null,
      "metadata": {
        "id": "9HGIx-SWmJzs"
      },
      "outputs": [],
      "source": [
        "from collections import deque\n",
        "\n",
        "def solution(numbers, direction):\n",
        "    numbers = deque(numbers)\n",
        "    \n",
        "    if direction == \"left\":\n",
        "        numbers.append(numbers.popleft())\n",
        "    else:\n",
        "        numbers.appendleft(numbers.pop())\n",
        "    \n",
        "    \n",
        "    return list(numbers)"
      ]
    },
    {
      "cell_type": "code",
      "source": [
        "solution([1, 2, 3],\t\"right\")"
      ],
      "metadata": {
        "colab": {
          "base_uri": "https://localhost:8080/"
        },
        "id": "1kkswEcbmMMA",
        "outputId": "c6b5cd7d-4672-47fb-ad2f-140445ff6889"
      },
      "execution_count": null,
      "outputs": [
        {
          "output_type": "execute_result",
          "data": {
            "text/plain": [
              "[3, 1, 2]"
            ]
          },
          "metadata": {},
          "execution_count": 4
        }
      ]
    },
    {
      "cell_type": "markdown",
      "source": [
        "#### **Lv1. 숫자 짝꿍**\n",
        "https://school.programmers.co.kr/learn/courses/30/lessons/131128"
      ],
      "metadata": {
        "id": "WtWQLqUdtktr"
      }
    },
    {
      "cell_type": "code",
      "source": [
        "# 참고 : https://soy3on.tistory.com/m/292"
      ],
      "metadata": {
        "id": "wYcKDF909p_x"
      },
      "execution_count": null,
      "outputs": []
    },
    {
      "cell_type": "code",
      "source": [
        "# 시간초과\n",
        "\n",
        "def solution(X, Y):\n",
        "    answer = ''\n",
        "    nums = []\n",
        "    \n",
        "    X = list(X)\n",
        "    Y = list(Y)\n",
        "    \n",
        "    for i in X:\n",
        "        if i in Y:\n",
        "            nums.append(i)\n",
        "            Y.remove(i)    # 속도 저하\n",
        "            \n",
        "    if nums==[]:\n",
        "        answer = \"-1\"\n",
        "    else:\n",
        "        nums.sort(reverse=True)\n",
        "        answer = ''.join(nums)\n",
        "        if int(answer)==0:\n",
        "            answer = \"0\"\n",
        "  \n",
        "\n",
        "    return answer"
      ],
      "metadata": {
        "id": "uZcZxz4s5ysF"
      },
      "execution_count": null,
      "outputs": []
    },
    {
      "cell_type": "code",
      "source": [
        "# 시간초과\n",
        "\n",
        "def solution(X, Y):\n",
        "    nums = dict()\n",
        "    answer = []\n",
        "    res = ''\n",
        "\n",
        "    X = list(X)\n",
        "    Y = list(Y)\n",
        "\n",
        "    for x in X:\n",
        "        if x in Y:\n",
        "            nums[x] = min(X.count(x), Y.count(x))\n",
        "\n",
        "    for k,v in nums.items():\n",
        "        for i in range(v):\n",
        "            answer.append(k)\n",
        "            \n",
        "    if answer==[]:\n",
        "        res = \"-1\"\n",
        "    else:\n",
        "        answer.sort(reverse=True)\n",
        "        res = ''.join(answer)\n",
        "        if int(res)==0:\n",
        "            res = \"0\"\n",
        "  \n",
        "\n",
        "    return res"
      ],
      "metadata": {
        "id": "BJkgau1MmPqt"
      },
      "execution_count": null,
      "outputs": []
    },
    {
      "cell_type": "code",
      "source": [
        "def solution(X, Y):\n",
        "    \n",
        "    nums = []\n",
        "    \n",
        "    all = (set(X)&set(Y))\n",
        "    for i in all:\n",
        "        for j in range(min(X.count(i), Y.count(i))):\n",
        "            nums.append(i)\n",
        "            \n",
        "    nums.sort(reverse=True)\n",
        "    if nums == [] :\n",
        "        return \"-1\"\n",
        "    if nums[0] == \"0\":\n",
        "        return \"0\"\n",
        "    \n",
        "    return ''.join(nums)"
      ],
      "metadata": {
        "colab": {
          "base_uri": "https://localhost:8080/"
        },
        "id": "KD1MKqnF4U9F",
        "outputId": "750d53f5-50bf-4b07-866d-a9e2e02409de"
      },
      "execution_count": null,
      "outputs": [
        {
          "output_type": "execute_result",
          "data": {
            "text/plain": [
              "['1', '2', '3']"
            ]
          },
          "metadata": {},
          "execution_count": 16
        }
      ]
    },
    {
      "cell_type": "markdown",
      "source": [
        "#### **Lv1. K번째수**\n",
        "https://school.programmers.co.kr/learn/courses/30/lessons/42748?language=python3"
      ],
      "metadata": {
        "id": "O3UXRtQo-zA7"
      }
    },
    {
      "cell_type": "code",
      "source": [
        "def solution(array, commands):\n",
        "    answer = []\n",
        "    \n",
        "    for c in commands:\n",
        "        new = sorted(array[c[0]-1:c[1]])\n",
        "        answer.append(new[c[2]-1])\n",
        "    \n",
        "    return answer"
      ],
      "metadata": {
        "id": "dYxgFpIn4rrl"
      },
      "execution_count": null,
      "outputs": []
    },
    {
      "cell_type": "code",
      "source": [
        "solution([1, 5, 2, 6, 3, 7, 4],\t[[2, 5, 3], [4, 4, 1], [1, 7, 3]])"
      ],
      "metadata": {
        "colab": {
          "base_uri": "https://localhost:8080/"
        },
        "id": "3t6HUSgg_cB1",
        "outputId": "3ea7bb78-e0c9-4575-9f38-a751fc33e6a5"
      },
      "execution_count": null,
      "outputs": [
        {
          "output_type": "execute_result",
          "data": {
            "text/plain": [
              "[5, 6, 3]"
            ]
          },
          "metadata": {},
          "execution_count": 18
        }
      ]
    }
  ]
}