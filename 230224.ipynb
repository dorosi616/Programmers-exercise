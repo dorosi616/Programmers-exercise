{
  "nbformat": 4,
  "nbformat_minor": 0,
  "metadata": {
    "colab": {
      "provenance": [],
      "authorship_tag": "ABX9TyPTrmnm0nt3XdZKGwmJ1tMX",
      "include_colab_link": true
    },
    "kernelspec": {
      "name": "python3",
      "display_name": "Python 3"
    },
    "language_info": {
      "name": "python"
    }
  },
  "cells": [
    {
      "cell_type": "markdown",
      "metadata": {
        "id": "view-in-github",
        "colab_type": "text"
      },
      "source": [
        "<a href=\"https://colab.research.google.com/github/dorosi616/Programmers-exercise/blob/main/230224.ipynb\" target=\"_parent\"><img src=\"https://colab.research.google.com/assets/colab-badge.svg\" alt=\"Open In Colab\"/></a>"
      ]
    },
    {
      "cell_type": "markdown",
      "source": [
        "#### **Lv1. 2016년**\n",
        "https://school.programmers.co.kr/learn/courses/30/lessons/12901"
      ],
      "metadata": {
        "id": "-YKjCUatrsYg"
      }
    },
    {
      "cell_type": "code",
      "execution_count": null,
      "metadata": {
        "id": "gkiQD2dnrp2i"
      },
      "outputs": [],
      "source": [
        "from datetime import date\n",
        "\n",
        "def solution(a, b):\n",
        "    answer = ''\n",
        "    \n",
        "    weekday = [\"MON\",\"TUE\",\"WED\",\"THU\",\"FRI\",\"SAT\",\"SUN\"]\n",
        "    day = date(2016, a, b)\n",
        "    answer = weekday[day.weekday()]\n",
        "    \n",
        "    \n",
        "    return answer"
      ]
    },
    {
      "cell_type": "code",
      "source": [
        "solution(2, 28)"
      ],
      "metadata": {
        "colab": {
          "base_uri": "https://localhost:8080/",
          "height": 35
        },
        "id": "NeK9ZZyZr6mH",
        "outputId": "abd3ff0a-33e3-44f0-da5f-d0726fd2a0ce"
      },
      "execution_count": null,
      "outputs": [
        {
          "output_type": "execute_result",
          "data": {
            "text/plain": [
              "'SUN'"
            ],
            "application/vnd.google.colaboratory.intrinsic+json": {
              "type": "string"
            }
          },
          "metadata": {},
          "execution_count": 15
        }
      ]
    },
    {
      "cell_type": "code",
      "source": [
        "def solution(a, b):\n",
        "\n",
        "  answer = ''\n",
        "  weekday = [\"THU\",\"FRI\",\"SAT\",\"SUN\",\"MON\",\"TUE\",\"WED\"]\n",
        "  months = [31, 29, 31, 30, 31, 30, 31, 31, 30, 31, 30, 31]\n",
        "\n",
        "  answer = weekday[(sum(months[:a-1])+b)%7]\n",
        "\n",
        "  return answer"
      ],
      "metadata": {
        "id": "jCIOAMoRsRgn"
      },
      "execution_count": null,
      "outputs": []
    },
    {
      "cell_type": "code",
      "source": [
        "solution(1, 1)"
      ],
      "metadata": {
        "colab": {
          "base_uri": "https://localhost:8080/",
          "height": 35
        },
        "id": "Gvjb82dIvHUY",
        "outputId": "26c6e504-35ff-40cb-bd05-c2172866e78c"
      },
      "execution_count": null,
      "outputs": [
        {
          "output_type": "execute_result",
          "data": {
            "text/plain": [
              "'FRI'"
            ],
            "application/vnd.google.colaboratory.intrinsic+json": {
              "type": "string"
            }
          },
          "metadata": {},
          "execution_count": 29
        }
      ]
    },
    {
      "cell_type": "markdown",
      "source": [
        "#### **Lv1. 행렬의 덧셈**\n",
        "https://school.programmers.co.kr/learn/courses/30/lessons/12950"
      ],
      "metadata": {
        "id": "-XrZFFHvwRtM"
      }
    },
    {
      "cell_type": "code",
      "source": [
        "def solution(arr1, arr2):\n",
        "    answer = []\n",
        "\n",
        "    for i in range(len(arr1)):\n",
        "      empty = []\n",
        "      for j in range(len(arr1[i])):\n",
        "        empty.append(arr1[i][j]+arr2[i][j])\n",
        "      answer.append(empty)\n",
        "\n",
        "    return answer"
      ],
      "metadata": {
        "id": "XlCR9X1xvI11"
      },
      "execution_count": null,
      "outputs": []
    },
    {
      "cell_type": "code",
      "source": [
        "solution([[1,2],[2,3]],\t[[3,4],[5,6]])"
      ],
      "metadata": {
        "colab": {
          "base_uri": "https://localhost:8080/"
        },
        "id": "eG1PWuPXwa5G",
        "outputId": "55131184-2bb9-431a-8b9a-d6e55157393b"
      },
      "execution_count": null,
      "outputs": [
        {
          "output_type": "execute_result",
          "data": {
            "text/plain": [
              "[[4, 6], [7, 9]]"
            ]
          },
          "metadata": {},
          "execution_count": 38
        }
      ]
    },
    {
      "cell_type": "markdown",
      "source": [
        "#### **Lv1. 콜라츠 추측**\n",
        "https://school.programmers.co.kr/learn/courses/30/lessons/12943"
      ],
      "metadata": {
        "id": "IqMH8v4GyG5z"
      }
    },
    {
      "cell_type": "code",
      "source": [
        "def solution(num):\n",
        "    cnt = 0\n",
        "\n",
        "    if num == 1 : return 0\n",
        "\n",
        "    while num != 1:\n",
        "      if cnt >= 500:\n",
        "        return -1\n",
        "      if num % 2 == 0:\n",
        "        num = num / 2\n",
        "        cnt += 1\n",
        "      else:\n",
        "        num = num*3 + 1\n",
        "        cnt += 1\n",
        "\n",
        "\n",
        "    return cnt"
      ],
      "metadata": {
        "id": "JYlgEMoxwvaZ"
      },
      "execution_count": null,
      "outputs": []
    },
    {
      "cell_type": "code",
      "source": [
        "solution(626331)"
      ],
      "metadata": {
        "colab": {
          "base_uri": "https://localhost:8080/"
        },
        "id": "ZzYEiEKn4vvc",
        "outputId": "2891b652-e27f-43e8-9b46-50929b8c53ce"
      },
      "execution_count": null,
      "outputs": [
        {
          "output_type": "execute_result",
          "data": {
            "text/plain": [
              "-1"
            ]
          },
          "metadata": {},
          "execution_count": 48
        }
      ]
    },
    {
      "cell_type": "markdown",
      "source": [
        "#### **Lv2. 최솟값 만들기**\n",
        "https://school.programmers.co.kr/learn/courses/30/lessons/12941"
      ],
      "metadata": {
        "id": "Tat08R2AW1ka"
      }
    },
    {
      "cell_type": "code",
      "source": [
        "def solution(A,B):\n",
        "    answer = 0\n",
        "\n",
        "    A.sort()\n",
        "    B.sort()\n",
        "\n",
        "    for i in range(len(A)):\n",
        "      answer += (A[i] * B[-(i+1)])\n",
        "      \n",
        "    return answer"
      ],
      "metadata": {
        "id": "U-KQyrrHViP9"
      },
      "execution_count": null,
      "outputs": []
    },
    {
      "cell_type": "code",
      "source": [
        "solution([1, 4, 2],\t[5, 4, 4])"
      ],
      "metadata": {
        "colab": {
          "base_uri": "https://localhost:8080/"
        },
        "id": "juxPah86XkeI",
        "outputId": "be932a7e-f8c7-4b1b-d308-21de64c6441f"
      },
      "execution_count": null,
      "outputs": [
        {
          "output_type": "execute_result",
          "data": {
            "text/plain": [
              "29"
            ]
          },
          "metadata": {},
          "execution_count": 123
        }
      ]
    },
    {
      "cell_type": "code",
      "source": [
        "solution([1,2], [3,4])"
      ],
      "metadata": {
        "colab": {
          "base_uri": "https://localhost:8080/"
        },
        "id": "s2zEPlykXnol",
        "outputId": "990ebdc8-93a4-413d-e845-784a6f690947"
      },
      "execution_count": null,
      "outputs": [
        {
          "output_type": "execute_result",
          "data": {
            "text/plain": [
              "10"
            ]
          },
          "metadata": {},
          "execution_count": 124
        }
      ]
    },
    {
      "cell_type": "code",
      "source": [],
      "metadata": {
        "id": "2QcwtgxmXxUE"
      },
      "execution_count": null,
      "outputs": []
    }
  ]
}