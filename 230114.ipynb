{
  "nbformat": 4,
  "nbformat_minor": 0,
  "metadata": {
    "colab": {
      "provenance": [],
      "authorship_tag": "ABX9TyPtST3G0F27KLCVY2O8AUs1",
      "include_colab_link": true
    },
    "kernelspec": {
      "name": "python3",
      "display_name": "Python 3"
    },
    "language_info": {
      "name": "python"
    }
  },
  "cells": [
    {
      "cell_type": "markdown",
      "metadata": {
        "id": "view-in-github",
        "colab_type": "text"
      },
      "source": [
        "<a href=\"https://colab.research.google.com/github/dorosi616/Programmers-exercise/blob/main/230114.ipynb\" target=\"_parent\"><img src=\"https://colab.research.google.com/assets/colab-badge.svg\" alt=\"Open In Colab\"/></a>"
      ]
    },
    {
      "cell_type": "markdown",
      "source": [
        "#### **Lv1. 개인정보 수집 유효기간**\n",
        "https://school.programmers.co.kr/learn/courses/30/lessons/150370?language=python3\n"
      ],
      "metadata": {
        "id": "GqzeSqkFDBvW"
      }
    },
    {
      "cell_type": "markdown",
      "source": [
        "- https://datascienceschool.net/01%20python/02.15%20%ED%8C%8C%EC%9D%B4%EC%8D%AC%EC%97%90%EC%84%9C%20%EB%82%A0%EC%A7%9C%EC%99%80%20%EC%8B%9C%EA%B0%84%20%EB%8B%A4%EB%A3%A8%EA%B8%B0.html\n",
        "- https://blackhippo.tistory.com/entry/Python-%EC%97%AC%EB%9F%AC%EC%A4%84-%EC%A3%BC%EC%84%9D-%EB%93%A4%EC%97%AC%EB%82%B4%EC%96%B4%EC%93%B0%EA%B8%B0-%EC%BD%94%EB%93%9C-%EC%95%95%EC%B6%95-%EB%B0%8F-%ED%99%95%EC%9E%A5%ED%95%98%EA%B8%B0\n",
        "- https://jsikim1.tistory.com/144"
      ],
      "metadata": {
        "id": "XZo5EWhFKmrq"
      }
    },
    {
      "cell_type": "code",
      "execution_count": null,
      "metadata": {
        "id": "PCuLFscT5WiK"
      },
      "outputs": [],
      "source": [
        "from datetime import datetime\n",
        "from dateutil.relativedelta import relativedelta\n",
        "\n",
        "def solution(today, terms, privacies):\n",
        "    answer = []\n",
        "    idx = 1\n",
        "\n",
        "    today = today.replace(\".\", \"\")\n",
        "    today = datetime.strptime(today, \"%Y%m%d\")\n",
        "\n",
        "    dict_terms = dict()\n",
        "    for t in terms:\n",
        "      k, v = t.split(\" \")\n",
        "      dict_terms[k] = int(v)\n",
        "\n",
        "    for p in privacies:\n",
        "      date, term = p.split(\" \")\n",
        "\n",
        "      date = date.replace(\".\", \"\")\n",
        "      date = datetime.strptime(date, \"%Y%m%d\")\n",
        "\n",
        "      end = date + relativedelta(months=dict_terms[term])\n",
        "      if end <= today:\n",
        "        answer.append(idx)\n",
        "\n",
        "      idx += 1\n",
        "\n",
        "    return answer"
      ]
    },
    {
      "cell_type": "code",
      "source": [
        "solution(\"2022.05.19\",\t[\"A 6\", \"B 12\", \"C 3\"],\t[\"2021.05.02 A\", \"2021.07.01 B\", \"2022.02.19 C\", \"2022.02.20 C\"])"
      ],
      "metadata": {
        "colab": {
          "base_uri": "https://localhost:8080/"
        },
        "id": "XwJlO17r6N93",
        "outputId": "154d0ff8-7cc8-4bbe-aaf7-e161588561a2"
      },
      "execution_count": null,
      "outputs": [
        {
          "output_type": "execute_result",
          "data": {
            "text/plain": [
              "[1, 3]"
            ]
          },
          "metadata": {},
          "execution_count": 42
        }
      ]
    },
    {
      "cell_type": "code",
      "source": [
        "solution(\"2020.01.01\",\t[\"Z 3\", \"D 5\"],\t[\"2019.01.01 D\", \"2019.11.15 Z\", \"2019.08.02 D\", \"2019.07.01 D\", \"2018.12.28 Z\"])"
      ],
      "metadata": {
        "colab": {
          "base_uri": "https://localhost:8080/"
        },
        "id": "5Zn8goeeA9J-",
        "outputId": "aa8de761-9591-4523-dde2-5635f6971dc2"
      },
      "execution_count": null,
      "outputs": [
        {
          "output_type": "execute_result",
          "data": {
            "text/plain": [
              "[1, 4, 5]"
            ]
          },
          "metadata": {},
          "execution_count": 43
        }
      ]
    },
    {
      "cell_type": "code",
      "source": [
        "from dateutil.relativedelta import relativedelta\n",
        "\n",
        "d = datetime.strptime(\"20190802\", \"%Y%m%d\")\n",
        "d + relativedelta(months=5)"
      ],
      "metadata": {
        "colab": {
          "base_uri": "https://localhost:8080/"
        },
        "id": "c3cw4cIIBOWT",
        "outputId": "a47984b2-65cd-4dd7-9aca-9661578fa8af"
      },
      "execution_count": null,
      "outputs": [
        {
          "output_type": "execute_result",
          "data": {
            "text/plain": [
              "datetime.datetime(2020, 1, 2, 0, 0)"
            ]
          },
          "metadata": {},
          "execution_count": 40
        }
      ]
    },
    {
      "cell_type": "code",
      "source": [
        "from datetime import datetime, timedelta\n",
        "\n",
        "today = \"2022.05.19\"\n",
        "terms = [\"A 6\", \"B 12\", \"C 3\"]\n",
        "privacies = [\"2021.05.02 A\", \"2021.07.01 B\", \"2022.02.19 C\", \"2022.02.20 C\"]\n",
        "\n",
        "idx = 1\n",
        "answer = []\n",
        "\n",
        "today = today.replace(\".\", \"\")\n",
        "today = datetime.strptime(today, \"%Y%m%d\")\n",
        "\n",
        "dict_terms = dict()\n",
        "for t in terms:\n",
        "  k, v = t.split(\" \")\n",
        "  dict_terms[k] = int(v)*30-1\n",
        "\n",
        "for p in privacies:\n",
        "  date, term = p.split(\" \")\n",
        "\n",
        "  date = date.replace(\".\", \"\")\n",
        "  date = datetime.strptime(date, \"%Y%m%d\")\n",
        "\n",
        "  end = date + timedelta(days=dict_terms[term])\n",
        "  if end <= today:\n",
        "    answer.append(idx)\n",
        "\n",
        "  idx += 1\n",
        "\n",
        "answer"
      ],
      "metadata": {
        "colab": {
          "base_uri": "https://localhost:8080/"
        },
        "id": "LUTaQ_DN6dA6",
        "outputId": "04abf9be-ad10-45e8-d471-c1cda4233e38"
      },
      "execution_count": null,
      "outputs": [
        {
          "output_type": "execute_result",
          "data": {
            "text/plain": [
              "[1, 3]"
            ]
          },
          "metadata": {},
          "execution_count": 30
        }
      ]
    },
    {
      "cell_type": "markdown",
      "source": [
        "#### **Lv2. 귤 고르기**\n",
        "https://school.programmers.co.kr/learn/courses/30/lessons/138476"
      ],
      "metadata": {
        "id": "lOuiSAn-Lnqv"
      }
    },
    {
      "cell_type": "markdown",
      "source": [
        "- https://www.ebeb-blog.com/2021/08/06/%ED%8C%8C%EC%9D%B4%EC%8D%AC-%EB%A6%AC%EC%8A%A4%ED%8A%B8-%EC%B9%B4%EC%9A%B4%ED%8A%B8-%EC%A0%95%EB%A0%AC-counter-sort-with-aes-ddt/"
      ],
      "metadata": {
        "id": "ujbCKTfdSQOK"
      }
    },
    {
      "cell_type": "code",
      "source": [
        "from collections import Counter\n",
        "\n",
        "def solution(k, tangerine):\n",
        "    answer = 0\n",
        "    new = []\n",
        "\n",
        "    count = Counter(tangerine)\n",
        "    li_count = count.most_common()\n",
        "\n",
        "    for i in li_count:\n",
        "      if answer+i[1] < k:\n",
        "        new.append(i[0])\n",
        "        answer += i[1]\n",
        "\n",
        "      else:\n",
        "        new.append(i[0])\n",
        "        break\n",
        "\n",
        "    return len(new)"
      ],
      "metadata": {
        "id": "G85BIThS9zYu"
      },
      "execution_count": null,
      "outputs": []
    },
    {
      "cell_type": "code",
      "source": [
        "solution(6,\t[1, 3, 2, 5, 4, 5, 2, 3])"
      ],
      "metadata": {
        "colab": {
          "base_uri": "https://localhost:8080/"
        },
        "id": "xCSqKQadPSt5",
        "outputId": "1304c809-1df0-4d7d-98d7-7b0712745156"
      },
      "execution_count": null,
      "outputs": [
        {
          "output_type": "execute_result",
          "data": {
            "text/plain": [
              "3"
            ]
          },
          "metadata": {},
          "execution_count": 74
        }
      ]
    },
    {
      "cell_type": "code",
      "source": [
        "a = [1, 3, 2, 5, 4, 5, 2, 3]\n",
        "b = Counter(a)\n",
        "b"
      ],
      "metadata": {
        "colab": {
          "base_uri": "https://localhost:8080/"
        },
        "id": "NhXYkKGdSNBh",
        "outputId": "930444b1-d119-4e96-e391-49d09f855500"
      },
      "execution_count": null,
      "outputs": [
        {
          "output_type": "execute_result",
          "data": {
            "text/plain": [
              "Counter({1: 1, 3: 2, 2: 2, 5: 2, 4: 1})"
            ]
          },
          "metadata": {},
          "execution_count": 76
        }
      ]
    },
    {
      "cell_type": "code",
      "source": [
        "b.most_common()"
      ],
      "metadata": {
        "colab": {
          "base_uri": "https://localhost:8080/"
        },
        "id": "bcXsGpBMSZqx",
        "outputId": "25f952c7-e8e7-4aae-fb6e-d24ae1a7f88d"
      },
      "execution_count": null,
      "outputs": [
        {
          "output_type": "execute_result",
          "data": {
            "text/plain": [
              "[(3, 2), (2, 2), (5, 2), (1, 1), (4, 1)]"
            ]
          },
          "metadata": {},
          "execution_count": 77
        }
      ]
    },
    {
      "cell_type": "code",
      "source": [
        "from collections import Counter\n",
        "\n",
        "k = 6\n",
        "tangerine = [1, 3, 2, 5, 4, 5, 2, 3]\n",
        "\n",
        "count = Counter(tangerine)\n",
        "li_count = count.most_common()\n",
        "\n",
        "new = []\n",
        "sum = 0\n",
        "for i in li_count:\n",
        "\n",
        "  if sum+i[1] < k:\n",
        "    new.append(i[0])\n",
        "    sum += i[1]\n",
        "\n",
        "  else:\n",
        "    new.append(i[0])\n",
        "    break\n",
        "\n",
        "print(len(new))"
      ],
      "metadata": {
        "colab": {
          "base_uri": "https://localhost:8080/"
        },
        "id": "aqSOdwb8MbXp",
        "outputId": "1f126476-fe0a-4118-db2f-d60443519cf9"
      },
      "execution_count": null,
      "outputs": [
        {
          "output_type": "stream",
          "name": "stdout",
          "text": [
            "3\n"
          ]
        }
      ]
    },
    {
      "cell_type": "markdown",
      "source": [
        "#### **Lv2. [3차] 압축**\n",
        "https://school.programmers.co.kr/learn/courses/30/lessons/17684"
      ],
      "metadata": {
        "id": "iqI1NBu4W4FN"
      }
    },
    {
      "cell_type": "code",
      "source": [
        "def solution(msg):\n",
        "    answer = []\n",
        "    cut = []\n",
        "\n",
        "    diction = ['A', 'B', 'C', 'D', 'E', 'F', 'G', 'H', 'I', 'J', 'K', 'L', 'M', 'N', 'O', 'P', 'Q', 'R', 'S', 'T', 'U', 'V', 'W', 'X', 'Y', 'Z']\n",
        "\n",
        "    for i in range(len(msg)):\n",
        "      for j in range(i+1,len(msg)+1):\n",
        "        if msg[i:j] in diction:\n",
        "          if msg[i:j] not in cut:\n",
        "            cut.append(msg[i:j])\n",
        "        if msg[i:j] not in diction:\n",
        "          diction.append(msg[i:j])\n",
        "          break\n",
        "    \n",
        "    for c in cut:\n",
        "      answer.append(diction.index(c)+1)\n",
        "\n",
        "\n",
        "    return answer"
      ],
      "metadata": {
        "id": "djt0nSQ4OnDC"
      },
      "execution_count": null,
      "outputs": []
    },
    {
      "cell_type": "code",
      "source": [
        "solution(\"ABABABABABABABAB\")"
      ],
      "metadata": {
        "colab": {
          "base_uri": "https://localhost:8080/"
        },
        "id": "MNcPS_zlg9cy",
        "outputId": "baaa2ec3-66c1-4d1c-dcc3-ba01ad99d4ec"
      },
      "execution_count": null,
      "outputs": [
        {
          "output_type": "execute_result",
          "data": {
            "text/plain": [
              "[1, 2, 27, 28, 29, 30, 31, 32, 33, 34, 35]"
            ]
          },
          "metadata": {},
          "execution_count": 122
        }
      ]
    },
    {
      "cell_type": "code",
      "source": [
        "msg = \"KAKAO\"\n",
        "\n",
        "answer = []\n",
        "diction = ['A', 'B', 'C', 'D', 'E', 'F', 'G', 'H', 'I', 'J', 'K', 'L', 'M', 'N', 'O', 'P', 'Q', 'R', 'S', 'T', 'U', 'V', 'W', 'X', 'Y', 'Z']\n",
        "\n",
        "for i in range(len(msg)):\n",
        "  if msg[i:i+2] not in diction:\n",
        "    diction.append(msg[i:i+2])\n",
        "    answer.append(diction.index(msg[i])+1)\n",
        "  else:\n",
        "    answer.append(diction.index(msg[i])+1)"
      ],
      "metadata": {
        "id": "nYBvPP70Xq_A"
      },
      "execution_count": null,
      "outputs": []
    },
    {
      "cell_type": "code",
      "source": [
        "msg = \"TOBEORNOTTOBEORTOBEORNOT\"\n",
        "\n",
        "answer = []\n",
        "cut = []\n",
        "diction = ['A', 'B', 'C', 'D', 'E', 'F', 'G', 'H', 'I', 'J', 'K', 'L', 'M', 'N', 'O', 'P', 'Q', 'R', 'S', 'T', 'U', 'V', 'W', 'X', 'Y', 'Z']\n",
        "\n",
        "for i in range(len(msg)):\n",
        "  for j in range(i+1,len(msg)+1):\n",
        "    if msg[i:j] in diction:\n",
        "      if msg[i:j] not in cut:\n",
        "        cut.append(msg[i:j])\n",
        "        continue\n",
        "    if msg[i:j] not in diction:\n",
        "      diction.append(msg[i:j])\n",
        "      break\n",
        "    \n",
        "for c in cut:\n",
        "  answer.append(diction.index(c)+1)\n",
        "\n",
        "answer"
      ],
      "metadata": {
        "colab": {
          "base_uri": "https://localhost:8080/"
        },
        "id": "-qQ27iuPbRc9",
        "outputId": "a7876ac5-eafd-49f1-da54-d46140fed055"
      },
      "execution_count": null,
      "outputs": [
        {
          "output_type": "execute_result",
          "data": {
            "text/plain": [
              "[20, 15, 2, 5, 18, 14, 27, 28, 29, 30, 31, 36, 37, 38, 39, 32, 33, 34]"
            ]
          },
          "metadata": {},
          "execution_count": 143
        }
      ]
    },
    {
      "cell_type": "code",
      "source": [
        "cut"
      ],
      "metadata": {
        "colab": {
          "base_uri": "https://localhost:8080/"
        },
        "id": "KQkDoEwXZK2g",
        "outputId": "95e82892-276c-40d9-cb8d-056b972f0490"
      },
      "execution_count": null,
      "outputs": [
        {
          "output_type": "execute_result",
          "data": {
            "text/plain": [
              "['T', 'O', 'B', 'E', 'R', 'N', 'OR', 'TO', 'OB', 'BE', 'EO', 'OT']"
            ]
          },
          "metadata": {},
          "execution_count": 141
        }
      ]
    },
    {
      "cell_type": "code",
      "source": [
        "diction"
      ],
      "metadata": {
        "colab": {
          "base_uri": "https://localhost:8080/"
        },
        "id": "sgypypiqZm6U",
        "outputId": "c3584b37-7911-4a0b-f74f-df56a540bae4"
      },
      "execution_count": null,
      "outputs": [
        {
          "output_type": "execute_result",
          "data": {
            "text/plain": [
              "['A',\n",
              " 'B',\n",
              " 'C',\n",
              " 'D',\n",
              " 'E',\n",
              " 'F',\n",
              " 'G',\n",
              " 'H',\n",
              " 'I',\n",
              " 'J',\n",
              " 'K',\n",
              " 'L',\n",
              " 'M',\n",
              " 'N',\n",
              " 'O',\n",
              " 'P',\n",
              " 'Q',\n",
              " 'R',\n",
              " 'S',\n",
              " 'T',\n",
              " 'U',\n",
              " 'V',\n",
              " 'W',\n",
              " 'X',\n",
              " 'Y',\n",
              " 'Z',\n",
              " 'TO',\n",
              " 'OB',\n",
              " 'BE',\n",
              " 'EO',\n",
              " 'OR',\n",
              " 'RN',\n",
              " 'NO',\n",
              " 'OT',\n",
              " 'TT',\n",
              " 'TOB',\n",
              " 'OBE',\n",
              " 'BEO',\n",
              " 'EOR',\n",
              " 'ORT',\n",
              " 'RT',\n",
              " 'TOBE',\n",
              " 'OBEO',\n",
              " 'BEOR',\n",
              " 'EORN',\n",
              " 'ORN',\n",
              " 'RNO',\n",
              " 'NOT']"
            ]
          },
          "metadata": {},
          "execution_count": 144
        }
      ]
    },
    {
      "cell_type": "code",
      "source": [
        "msg = \"KAKAO\"\n",
        "\n"
      ],
      "metadata": {
        "id": "KHqtWsMPaBnD"
      },
      "execution_count": null,
      "outputs": []
    }
  ]
}