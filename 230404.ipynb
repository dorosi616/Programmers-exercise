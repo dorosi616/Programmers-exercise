{
  "nbformat": 4,
  "nbformat_minor": 0,
  "metadata": {
    "colab": {
      "provenance": [],
      "authorship_tag": "ABX9TyO7ke1cSkaPiYYWTw0i7blP",
      "include_colab_link": true
    },
    "kernelspec": {
      "name": "python3",
      "display_name": "Python 3"
    },
    "language_info": {
      "name": "python"
    }
  },
  "cells": [
    {
      "cell_type": "markdown",
      "metadata": {
        "id": "view-in-github",
        "colab_type": "text"
      },
      "source": [
        "<a href=\"https://colab.research.google.com/github/dorosi616/Programmers-exercise/blob/main/230404.ipynb\" target=\"_parent\"><img src=\"https://colab.research.google.com/assets/colab-badge.svg\" alt=\"Open In Colab\"/></a>"
      ]
    },
    {
      "cell_type": "markdown",
      "source": [
        "#### **Lv2. 다리를 지나는 트럭**\n",
        "https://school.programmers.co.kr/learn/courses/30/lessons/42583"
      ],
      "metadata": {
        "id": "UPvfeIi9dbFS"
      }
    },
    {
      "cell_type": "code",
      "execution_count": null,
      "metadata": {
        "colab": {
          "base_uri": "https://localhost:8080/"
        },
        "id": "yc4eexs7HmUt",
        "outputId": "ebff0602-778a-4cba-ade6-a701c9d1b760"
      },
      "outputs": [
        {
          "output_type": "execute_result",
          "data": {
            "text/plain": [
              "deque([0, 0, 0, 0, 0, 0, 0, 0, 0, 0])"
            ]
          },
          "metadata": {},
          "execution_count": 3
        }
      ],
      "source": [
        "from collections import deque\n",
        "\n",
        "def solution(bridge_length, weight, truck_weights):\n",
        "    time = 0\n",
        "    bridge_weight = 0 \n",
        "    \n",
        "    truck_weights = deque(truck_weights)\n",
        "    bridge = deque([0]*bridge_length)  # [0,0,0...]\n",
        "    \n",
        "    \n",
        "    while bridge:\n",
        "        time += 1\n",
        "\n",
        "        bridge_weight -= bridge.popleft()   # bridge의 첫번째 자리는 무조건 빼 (이동해야되니까)\n",
        "        \n",
        "        if truck_weights:\n",
        "            if bridge_weight + truck_weights[0] <= weight:\n",
        "                truck = truck_weights.popleft()\n",
        "                bridge.append(truck)\n",
        "                bridge_weight += truck\n",
        "            else:\n",
        "                bridge.append(0)\n",
        "    \n",
        "    return time"
      ]
    },
    {
      "cell_type": "code",
      "source": [
        "bridge_length,\tweight,\ttruck_weights = 3,\t10,\t[7,4,5,6]\n",
        "\n",
        "time = 0\n",
        "bridge_weight = 0 \n",
        "\n",
        "truck_weights = deque(truck_weights)\n",
        "bridge = deque([0]*bridge_length)  # [0,0,0...]\n",
        "\n",
        "\n",
        "\n",
        "while bridge:\n",
        "    time += 1\n",
        "    \n",
        "    bridge_weight -= bridge.popleft()   # bridge의 첫번째 트럭은 무조건 빼 (이동해야되니까)\n",
        "    \n",
        "    if truck_weights:\n",
        "        if bridge_weight + truck_weights[0] <= weight:\n",
        "            truck = truck_weights.popleft()\n",
        "            bridge.append(truck)\n",
        "            bridge_weight += truck\n",
        "        else:\n",
        "            bridge.append(0)\n",
        "        print(bridge, bridge_weight)"
      ],
      "metadata": {
        "colab": {
          "base_uri": "https://localhost:8080/"
        },
        "id": "002Ucph1Pbxq",
        "outputId": "627398aa-bd38-4f9d-d958-c986ca62b369"
      },
      "execution_count": null,
      "outputs": [
        {
          "output_type": "stream",
          "name": "stdout",
          "text": [
            "deque([0, 0, 7]) 7\n",
            "deque([0, 7, 0]) 7\n",
            "deque([7, 0, 0]) 7\n",
            "deque([0, 0, 4]) 4\n",
            "deque([0, 4, 5]) 9\n",
            "deque([4, 5, 0]) 9\n",
            "deque([5, 0, 0]) 5\n",
            "deque([0, 0, 6]) 6\n"
          ]
        }
      ]
    },
    {
      "cell_type": "markdown",
      "source": [
        "#### **Lv2. 주식가격**\n",
        "https://school.programmers.co.kr/learn/courses/30/lessons/42584"
      ],
      "metadata": {
        "id": "YAcXEXo_dfnp"
      }
    },
    {
      "cell_type": "code",
      "source": [
        "from collections import deque\n",
        "\n",
        "def solution(prices):\n",
        "    answer = []\n",
        "    \n",
        "    prices = deque(prices)\n",
        "    \n",
        "    while prices:\n",
        "        time = 0\n",
        "        price = prices.popleft()\n",
        "        \n",
        "        for p in prices:\n",
        "            time += 1\n",
        "            if p < price:\n",
        "                break\n",
        "        answer.append(time)\n",
        "        \n",
        "    \n",
        "    return answer"
      ],
      "metadata": {
        "id": "InG_ngkDPzH-"
      },
      "execution_count": null,
      "outputs": []
    },
    {
      "cell_type": "markdown",
      "source": [
        "#### **Lv2. 더 맵게**\n",
        "https://school.programmers.co.kr/learn/courses/30/lessons/42626"
      ],
      "metadata": {
        "id": "7XVa8mujitPQ"
      }
    },
    {
      "cell_type": "code",
      "source": [
        "import heapq\n",
        "\n",
        "def solution(scoville, K):\n",
        "    time = 0\n",
        "    \n",
        "    heapq.heapify(scoville)   # 자동 sort\n",
        "    \n",
        "    while scoville[0] < K:\n",
        "        \n",
        "        s = heapq.heappop(scoville) + (heapq.heappop(scoville)*2)\n",
        "        heapq.heappush(scoville, s)\n",
        "        time += 1\n",
        "        \n",
        "        if (len(scoville)==1) and (scoville[0]<K):\n",
        "            return -1\n",
        "    \n",
        "    return time"
      ],
      "metadata": {
        "id": "aSXir_o8itba"
      },
      "execution_count": null,
      "outputs": []
    },
    {
      "cell_type": "markdown",
      "source": [
        "#### **Lv3. 디스크 컨트롤러**\n",
        "https://school.programmers.co.kr/learn/courses/30/lessons/42627"
      ],
      "metadata": {
        "id": "dG9aB-HS-8a_"
      }
    },
    {
      "cell_type": "code",
      "source": [
        "import heapq\n",
        "\n",
        "def solution(jobs):\n",
        "    answer, now, i = 0, 0, 0\n",
        "    start = -1\n",
        "    heap = []\n",
        "    \n",
        "    while i < len(jobs):\n",
        "        \n",
        "        for j in jobs:\n",
        "            if start < j[0] <= now:\n",
        "                heapq.heappush(heap, (j[1], j[0]))  # (소요시간, 요청시간)\n",
        "                \n",
        "        if heap:\n",
        "            temp = heapq.heappop(heap)\n",
        "            start = now\n",
        "            now += temp[0]   # + 다음 작업 소요시간\n",
        "            answer += (now-temp[1])  # 요청부터 종료까지의 시간\n",
        "            i += 1\n",
        "        else:\n",
        "            now += 1\n",
        "            \n",
        "    return answer // i"
      ],
      "metadata": {
        "id": "cRG36iXp-8za"
      },
      "execution_count": null,
      "outputs": []
    },
    {
      "cell_type": "markdown",
      "source": [
        "#### **Lv3. 이중우선순위 큐**\n",
        "https://school.programmers.co.kr/learn/courses/30/lessons/42628"
      ],
      "metadata": {
        "id": "G8JTzvy5F55S"
      }
    },
    {
      "cell_type": "code",
      "source": [
        "import heapq\n",
        "\n",
        "def solution(operations):\n",
        "    answer = []\n",
        "    \n",
        "    que = []\n",
        "    for o in operations:\n",
        "        if o.startswith(\"I\"):\n",
        "            heapq.heappush(que, int(o.split(\" \")[1]))\n",
        "        if que:\n",
        "            if o == \"D -1\":\n",
        "                heapq.heappop(que)\n",
        "            elif o == \"D 1\":\n",
        "                que = heapq.nlargest(len(que), que)[1:]  # 내림차순 정렬 후 최댓값 제외\n",
        "                heapq.heapify(que)\n",
        "                \n",
        "    if que:\n",
        "        answer.append(max(que))\n",
        "        answer.append(min(que))\n",
        "    else:\n",
        "        return [0,0]\n",
        "    \n",
        "    return answer"
      ],
      "metadata": {
        "id": "EcUbBlXgF6LS"
      },
      "execution_count": null,
      "outputs": []
    }
  ]
}