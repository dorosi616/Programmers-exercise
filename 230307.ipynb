{
  "nbformat": 4,
  "nbformat_minor": 0,
  "metadata": {
    "colab": {
      "provenance": [],
      "authorship_tag": "ABX9TyOv+FiJz9/72bTJKMkn1V3U",
      "include_colab_link": true
    },
    "kernelspec": {
      "name": "python3",
      "display_name": "Python 3"
    },
    "language_info": {
      "name": "python"
    }
  },
  "cells": [
    {
      "cell_type": "markdown",
      "metadata": {
        "id": "view-in-github",
        "colab_type": "text"
      },
      "source": [
        "<a href=\"https://colab.research.google.com/github/dorosi616/Programmers-exercise/blob/main/230307.ipynb\" target=\"_parent\"><img src=\"https://colab.research.google.com/assets/colab-badge.svg\" alt=\"Open In Colab\"/></a>"
      ]
    },
    {
      "cell_type": "markdown",
      "source": [
        "#### **Lv1. 과일장수**\n",
        "https://school.programmers.co.kr/learn/courses/30/lessons/135808"
      ],
      "metadata": {
        "id": "baDZKPCH4gvD"
      }
    },
    {
      "cell_type": "code",
      "execution_count": null,
      "metadata": {
        "id": "tkr3w1sCyi06"
      },
      "outputs": [],
      "source": [
        "def solution(k, m, score):\n",
        "    answer = 0\n",
        "    apple = []\n",
        "\n",
        "    score.sort(reverse=True)\n",
        "\n",
        "    for i in range(len(score)):\n",
        "      if (i+1)%m == 1:\n",
        "        apple = []\n",
        "      apple.append(score[i])\n",
        "    \n",
        "      if (i+1)%m == 0:\n",
        "        answer += (min(apple)*m)\n",
        "    \n",
        "    return answer"
      ]
    },
    {
      "cell_type": "code",
      "source": [
        "solution(4,\t3,\t[4, 1, 2, 2, 4, 4, 4, 4, 1, 2, 4, 2])"
      ],
      "metadata": {
        "colab": {
          "base_uri": "https://localhost:8080/"
        },
        "id": "7jfa2-ir1r0i",
        "outputId": "ba890a5c-2720-4029-d6e5-62a551fc9fff"
      },
      "execution_count": null,
      "outputs": [
        {
          "output_type": "execute_result",
          "data": {
            "text/plain": [
              "33"
            ]
          },
          "metadata": {},
          "execution_count": 25
        }
      ]
    },
    {
      "cell_type": "markdown",
      "source": [
        "#### **Lv1. 명예의 전당(1)**\n",
        "https://school.programmers.co.kr/learn/courses/30/lessons/138477\n"
      ],
      "metadata": {
        "id": "hZZN6vU2503z"
      }
    },
    {
      "cell_type": "code",
      "source": [
        "def solution(k, score):\n",
        "    answer = []\n",
        "    hall = []\n",
        "    \n",
        "    for s in score:\n",
        "        hall.append(s)\n",
        "        hall.sort(reverse=True)\n",
        "        answer.append(min(hall[:k]))\n",
        "        \n",
        "    return answer"
      ],
      "metadata": {
        "id": "gEfwXEWs1zP8"
      },
      "execution_count": null,
      "outputs": []
    },
    {
      "cell_type": "code",
      "source": [
        "solution(4,\t[0, 300, 40, 300, 20, 70, 150, 50, 500, 1000])"
      ],
      "metadata": {
        "colab": {
          "base_uri": "https://localhost:8080/"
        },
        "id": "ydQ8Bs5F5_8i",
        "outputId": "1ea77daf-c899-4257-c027-5ff65418d2f1"
      },
      "execution_count": null,
      "outputs": [
        {
          "output_type": "execute_result",
          "data": {
            "text/plain": [
              "[0, 0, 0, 0, 20, 40, 70, 70, 150, 300]"
            ]
          },
          "metadata": {},
          "execution_count": 27
        }
      ]
    },
    {
      "cell_type": "markdown",
      "source": [
        "#### **Lv1. 탐욕법**\n",
        "https://school.programmers.co.kr/learn/courses/30/lessons/42862"
      ],
      "metadata": {
        "id": "KS01TFDT-sGW"
      }
    },
    {
      "cell_type": "code",
      "source": [
        "def solution(n, lost, reserve):\n",
        "    answer = 0\n",
        "    cnt = 0\n",
        "    student = [i for i in range(1,n+1)]\n",
        "\n",
        "    set_lost = set(lost) - set(reserve)\n",
        "    set_reserve = set(reserve) - set(lost)\n",
        "\n",
        "    for i in set_reserve:\n",
        "      if i-1 in set_lost:\n",
        "        set_lost.remove(i-1)\n",
        "      elif i+1 in set_lost:\n",
        "        set_lost.remove(i+1)\n",
        "\n",
        "    answer = n - len(set_lost)\n",
        "\n",
        "    return answer"
      ],
      "metadata": {
        "id": "axyzI3scC53p"
      },
      "execution_count": null,
      "outputs": []
    },
    {
      "cell_type": "code",
      "source": [
        "solution(5,\t[2, 4],\t[1, 3, 5])"
      ],
      "metadata": {
        "colab": {
          "base_uri": "https://localhost:8080/"
        },
        "id": "ZE0R1boVDeYI",
        "outputId": "5cf9f794-1f23-4d6b-9059-cba8ba20edff"
      },
      "execution_count": null,
      "outputs": [
        {
          "output_type": "execute_result",
          "data": {
            "text/plain": [
              "5"
            ]
          },
          "metadata": {},
          "execution_count": 65
        }
      ]
    }
  ]
}